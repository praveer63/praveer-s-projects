{
 "cells": [
  {
   "cell_type": "markdown",
   "metadata": {},
   "source": [
    "# Importing all the necessary libraries"
   ]
  },
  {
   "cell_type": "code",
   "execution_count": 239,
   "metadata": {},
   "outputs": [],
   "source": [
    "import numpy as np\n",
    "import pandas as pd\n",
    "import matplotlib.pyplot as plt\n",
    "import seaborn as sns\n",
    "\n",
    "import datetime as dt\n",
    "import sklearn\n",
    "from sklearn.preprocessing import StandardScaler\n",
    "from sklearn.cluster import KMeans\n",
    "from sklearn.metrics import silhouette_score\n",
    "\n",
    "from scipy.cluster.hierarchy import linkage\n",
    "from scipy.cluster.hierarchy import dendrogram\n",
    "from scipy.cluster.hierarchy import cut_tree"
   ]
  },
  {
   "cell_type": "markdown",
   "metadata": {},
   "source": [
    "# Data cleaning"
   ]
  },
  {
   "cell_type": "code",
   "execution_count": 240,
   "metadata": {},
   "outputs": [
    {
     "data": {
      "text/html": [
       "<div>\n",
       "<style scoped>\n",
       "    .dataframe tbody tr th:only-of-type {\n",
       "        vertical-align: middle;\n",
       "    }\n",
       "\n",
       "    .dataframe tbody tr th {\n",
       "        vertical-align: top;\n",
       "    }\n",
       "\n",
       "    .dataframe thead th {\n",
       "        text-align: right;\n",
       "    }\n",
       "</style>\n",
       "<table border=\"1\" class=\"dataframe\">\n",
       "  <thead>\n",
       "    <tr style=\"text-align: right;\">\n",
       "      <th></th>\n",
       "      <th>country</th>\n",
       "      <th>child_mort</th>\n",
       "      <th>exports</th>\n",
       "      <th>health</th>\n",
       "      <th>imports</th>\n",
       "      <th>income</th>\n",
       "      <th>inflation</th>\n",
       "      <th>life_expec</th>\n",
       "      <th>total_fer</th>\n",
       "      <th>gdpp</th>\n",
       "    </tr>\n",
       "  </thead>\n",
       "  <tbody>\n",
       "    <tr>\n",
       "      <td>0</td>\n",
       "      <td>Afghanistan</td>\n",
       "      <td>90.2</td>\n",
       "      <td>10.0</td>\n",
       "      <td>7.58</td>\n",
       "      <td>44.9</td>\n",
       "      <td>1610</td>\n",
       "      <td>9.44</td>\n",
       "      <td>56.2</td>\n",
       "      <td>5.82</td>\n",
       "      <td>553</td>\n",
       "    </tr>\n",
       "    <tr>\n",
       "      <td>1</td>\n",
       "      <td>Albania</td>\n",
       "      <td>16.6</td>\n",
       "      <td>28.0</td>\n",
       "      <td>6.55</td>\n",
       "      <td>48.6</td>\n",
       "      <td>9930</td>\n",
       "      <td>4.49</td>\n",
       "      <td>76.3</td>\n",
       "      <td>1.65</td>\n",
       "      <td>4090</td>\n",
       "    </tr>\n",
       "    <tr>\n",
       "      <td>2</td>\n",
       "      <td>Algeria</td>\n",
       "      <td>27.3</td>\n",
       "      <td>38.4</td>\n",
       "      <td>4.17</td>\n",
       "      <td>31.4</td>\n",
       "      <td>12900</td>\n",
       "      <td>16.10</td>\n",
       "      <td>76.5</td>\n",
       "      <td>2.89</td>\n",
       "      <td>4460</td>\n",
       "    </tr>\n",
       "    <tr>\n",
       "      <td>3</td>\n",
       "      <td>Angola</td>\n",
       "      <td>119.0</td>\n",
       "      <td>62.3</td>\n",
       "      <td>2.85</td>\n",
       "      <td>42.9</td>\n",
       "      <td>5900</td>\n",
       "      <td>22.40</td>\n",
       "      <td>60.1</td>\n",
       "      <td>6.16</td>\n",
       "      <td>3530</td>\n",
       "    </tr>\n",
       "    <tr>\n",
       "      <td>4</td>\n",
       "      <td>Antigua and Barbuda</td>\n",
       "      <td>10.3</td>\n",
       "      <td>45.5</td>\n",
       "      <td>6.03</td>\n",
       "      <td>58.9</td>\n",
       "      <td>19100</td>\n",
       "      <td>1.44</td>\n",
       "      <td>76.8</td>\n",
       "      <td>2.13</td>\n",
       "      <td>12200</td>\n",
       "    </tr>\n",
       "  </tbody>\n",
       "</table>\n",
       "</div>"
      ],
      "text/plain": [
       "               country  child_mort  exports  health  imports  income  \\\n",
       "0          Afghanistan        90.2     10.0    7.58     44.9    1610   \n",
       "1              Albania        16.6     28.0    6.55     48.6    9930   \n",
       "2              Algeria        27.3     38.4    4.17     31.4   12900   \n",
       "3               Angola       119.0     62.3    2.85     42.9    5900   \n",
       "4  Antigua and Barbuda        10.3     45.5    6.03     58.9   19100   \n",
       "\n",
       "   inflation  life_expec  total_fer   gdpp  \n",
       "0       9.44        56.2       5.82    553  \n",
       "1       4.49        76.3       1.65   4090  \n",
       "2      16.10        76.5       2.89   4460  \n",
       "3      22.40        60.1       6.16   3530  \n",
       "4       1.44        76.8       2.13  12200  "
      ]
     },
     "execution_count": 240,
     "metadata": {},
     "output_type": "execute_result"
    }
   ],
   "source": [
    "#let's read the dataset\n",
    "df = pd.read_csv(r'C:\\Users\\LENOVO\\Downloads\\Country-data.csv')\n",
    "df.head()"
   ]
  },
  {
   "cell_type": "code",
   "execution_count": 241,
   "metadata": {},
   "outputs": [],
   "source": [
    "#Converting the data from percentage to numerical or absolute form \n",
    "df['exports'] = df['exports']*df['gdpp']/100\n",
    "df['imports'] = df['imports']*df['gdpp']/100\n",
    "df['health'] = df['health']*df['gdpp']/100"
   ]
  },
  {
   "cell_type": "code",
   "execution_count": 242,
   "metadata": {},
   "outputs": [
    {
     "data": {
      "text/html": [
       "<div>\n",
       "<style scoped>\n",
       "    .dataframe tbody tr th:only-of-type {\n",
       "        vertical-align: middle;\n",
       "    }\n",
       "\n",
       "    .dataframe tbody tr th {\n",
       "        vertical-align: top;\n",
       "    }\n",
       "\n",
       "    .dataframe thead th {\n",
       "        text-align: right;\n",
       "    }\n",
       "</style>\n",
       "<table border=\"1\" class=\"dataframe\">\n",
       "  <thead>\n",
       "    <tr style=\"text-align: right;\">\n",
       "      <th></th>\n",
       "      <th>country</th>\n",
       "      <th>child_mort</th>\n",
       "      <th>exports</th>\n",
       "      <th>health</th>\n",
       "      <th>imports</th>\n",
       "      <th>income</th>\n",
       "      <th>inflation</th>\n",
       "      <th>life_expec</th>\n",
       "      <th>total_fer</th>\n",
       "      <th>gdpp</th>\n",
       "    </tr>\n",
       "  </thead>\n",
       "  <tbody>\n",
       "    <tr>\n",
       "      <td>0</td>\n",
       "      <td>Afghanistan</td>\n",
       "      <td>90.2</td>\n",
       "      <td>55.30</td>\n",
       "      <td>41.9174</td>\n",
       "      <td>248.297</td>\n",
       "      <td>1610</td>\n",
       "      <td>9.44</td>\n",
       "      <td>56.2</td>\n",
       "      <td>5.82</td>\n",
       "      <td>553</td>\n",
       "    </tr>\n",
       "    <tr>\n",
       "      <td>1</td>\n",
       "      <td>Albania</td>\n",
       "      <td>16.6</td>\n",
       "      <td>1145.20</td>\n",
       "      <td>267.8950</td>\n",
       "      <td>1987.740</td>\n",
       "      <td>9930</td>\n",
       "      <td>4.49</td>\n",
       "      <td>76.3</td>\n",
       "      <td>1.65</td>\n",
       "      <td>4090</td>\n",
       "    </tr>\n",
       "    <tr>\n",
       "      <td>2</td>\n",
       "      <td>Algeria</td>\n",
       "      <td>27.3</td>\n",
       "      <td>1712.64</td>\n",
       "      <td>185.9820</td>\n",
       "      <td>1400.440</td>\n",
       "      <td>12900</td>\n",
       "      <td>16.10</td>\n",
       "      <td>76.5</td>\n",
       "      <td>2.89</td>\n",
       "      <td>4460</td>\n",
       "    </tr>\n",
       "    <tr>\n",
       "      <td>3</td>\n",
       "      <td>Angola</td>\n",
       "      <td>119.0</td>\n",
       "      <td>2199.19</td>\n",
       "      <td>100.6050</td>\n",
       "      <td>1514.370</td>\n",
       "      <td>5900</td>\n",
       "      <td>22.40</td>\n",
       "      <td>60.1</td>\n",
       "      <td>6.16</td>\n",
       "      <td>3530</td>\n",
       "    </tr>\n",
       "    <tr>\n",
       "      <td>4</td>\n",
       "      <td>Antigua and Barbuda</td>\n",
       "      <td>10.3</td>\n",
       "      <td>5551.00</td>\n",
       "      <td>735.6600</td>\n",
       "      <td>7185.800</td>\n",
       "      <td>19100</td>\n",
       "      <td>1.44</td>\n",
       "      <td>76.8</td>\n",
       "      <td>2.13</td>\n",
       "      <td>12200</td>\n",
       "    </tr>\n",
       "  </tbody>\n",
       "</table>\n",
       "</div>"
      ],
      "text/plain": [
       "               country  child_mort  exports    health   imports  income  \\\n",
       "0          Afghanistan        90.2    55.30   41.9174   248.297    1610   \n",
       "1              Albania        16.6  1145.20  267.8950  1987.740    9930   \n",
       "2              Algeria        27.3  1712.64  185.9820  1400.440   12900   \n",
       "3               Angola       119.0  2199.19  100.6050  1514.370    5900   \n",
       "4  Antigua and Barbuda        10.3  5551.00  735.6600  7185.800   19100   \n",
       "\n",
       "   inflation  life_expec  total_fer   gdpp  \n",
       "0       9.44        56.2       5.82    553  \n",
       "1       4.49        76.3       1.65   4090  \n",
       "2      16.10        76.5       2.89   4460  \n",
       "3      22.40        60.1       6.16   3530  \n",
       "4       1.44        76.8       2.13  12200  "
      ]
     },
     "execution_count": 242,
     "metadata": {},
     "output_type": "execute_result"
    }
   ],
   "source": [
    "df.head()"
   ]
  },
  {
   "cell_type": "code",
   "execution_count": 243,
   "metadata": {},
   "outputs": [
    {
     "data": {
      "text/plain": [
       "country       0\n",
       "child_mort    0\n",
       "exports       0\n",
       "health        0\n",
       "imports       0\n",
       "income        0\n",
       "inflation     0\n",
       "life_expec    0\n",
       "total_fer     0\n",
       "gdpp          0\n",
       "dtype: int64"
      ]
     },
     "execution_count": 243,
     "metadata": {},
     "output_type": "execute_result"
    }
   ],
   "source": [
    "\n",
    "#Checking for missing values\n",
    "df.isnull().sum()"
   ]
  },
  {
   "cell_type": "code",
   "execution_count": 244,
   "metadata": {},
   "outputs": [
    {
     "name": "stdout",
     "output_type": "stream",
     "text": [
      "<class 'pandas.core.frame.DataFrame'>\n",
      "RangeIndex: 167 entries, 0 to 166\n",
      "Data columns (total 10 columns):\n",
      "country       167 non-null object\n",
      "child_mort    167 non-null float64\n",
      "exports       167 non-null float64\n",
      "health        167 non-null float64\n",
      "imports       167 non-null float64\n",
      "income        167 non-null int64\n",
      "inflation     167 non-null float64\n",
      "life_expec    167 non-null float64\n",
      "total_fer     167 non-null float64\n",
      "gdpp          167 non-null int64\n",
      "dtypes: float64(7), int64(2), object(1)\n",
      "memory usage: 13.2+ KB\n"
     ]
    }
   ],
   "source": [
    "#Checking for missing values\n",
    "df.info()"
   ]
  },
  {
   "cell_type": "code",
   "execution_count": 245,
   "metadata": {},
   "outputs": [
    {
     "data": {
      "text/html": [
       "<div>\n",
       "<style scoped>\n",
       "    .dataframe tbody tr th:only-of-type {\n",
       "        vertical-align: middle;\n",
       "    }\n",
       "\n",
       "    .dataframe tbody tr th {\n",
       "        vertical-align: top;\n",
       "    }\n",
       "\n",
       "    .dataframe thead th {\n",
       "        text-align: right;\n",
       "    }\n",
       "</style>\n",
       "<table border=\"1\" class=\"dataframe\">\n",
       "  <thead>\n",
       "    <tr style=\"text-align: right;\">\n",
       "      <th></th>\n",
       "      <th>child_mort</th>\n",
       "      <th>exports</th>\n",
       "      <th>health</th>\n",
       "      <th>imports</th>\n",
       "      <th>income</th>\n",
       "      <th>inflation</th>\n",
       "      <th>life_expec</th>\n",
       "      <th>total_fer</th>\n",
       "      <th>gdpp</th>\n",
       "    </tr>\n",
       "  </thead>\n",
       "  <tbody>\n",
       "    <tr>\n",
       "      <td>count</td>\n",
       "      <td>167.000000</td>\n",
       "      <td>167.000000</td>\n",
       "      <td>167.000000</td>\n",
       "      <td>167.000000</td>\n",
       "      <td>167.000000</td>\n",
       "      <td>167.000000</td>\n",
       "      <td>167.000000</td>\n",
       "      <td>167.000000</td>\n",
       "      <td>167.000000</td>\n",
       "    </tr>\n",
       "    <tr>\n",
       "      <td>mean</td>\n",
       "      <td>38.270060</td>\n",
       "      <td>7420.618847</td>\n",
       "      <td>1056.733204</td>\n",
       "      <td>6588.352108</td>\n",
       "      <td>17144.688623</td>\n",
       "      <td>7.781832</td>\n",
       "      <td>70.555689</td>\n",
       "      <td>2.947964</td>\n",
       "      <td>12964.155689</td>\n",
       "    </tr>\n",
       "    <tr>\n",
       "      <td>std</td>\n",
       "      <td>40.328931</td>\n",
       "      <td>17973.885795</td>\n",
       "      <td>1801.408906</td>\n",
       "      <td>14710.810418</td>\n",
       "      <td>19278.067698</td>\n",
       "      <td>10.570704</td>\n",
       "      <td>8.893172</td>\n",
       "      <td>1.513848</td>\n",
       "      <td>18328.704809</td>\n",
       "    </tr>\n",
       "    <tr>\n",
       "      <td>min</td>\n",
       "      <td>2.600000</td>\n",
       "      <td>1.076920</td>\n",
       "      <td>12.821200</td>\n",
       "      <td>0.651092</td>\n",
       "      <td>609.000000</td>\n",
       "      <td>-4.210000</td>\n",
       "      <td>32.100000</td>\n",
       "      <td>1.150000</td>\n",
       "      <td>231.000000</td>\n",
       "    </tr>\n",
       "    <tr>\n",
       "      <td>25%</td>\n",
       "      <td>8.250000</td>\n",
       "      <td>447.140000</td>\n",
       "      <td>78.535500</td>\n",
       "      <td>640.215000</td>\n",
       "      <td>3355.000000</td>\n",
       "      <td>1.810000</td>\n",
       "      <td>65.300000</td>\n",
       "      <td>1.795000</td>\n",
       "      <td>1330.000000</td>\n",
       "    </tr>\n",
       "    <tr>\n",
       "      <td>50%</td>\n",
       "      <td>19.300000</td>\n",
       "      <td>1777.440000</td>\n",
       "      <td>321.886000</td>\n",
       "      <td>2045.580000</td>\n",
       "      <td>9960.000000</td>\n",
       "      <td>5.390000</td>\n",
       "      <td>73.100000</td>\n",
       "      <td>2.410000</td>\n",
       "      <td>4660.000000</td>\n",
       "    </tr>\n",
       "    <tr>\n",
       "      <td>75%</td>\n",
       "      <td>62.100000</td>\n",
       "      <td>7278.000000</td>\n",
       "      <td>976.940000</td>\n",
       "      <td>7719.600000</td>\n",
       "      <td>22800.000000</td>\n",
       "      <td>10.750000</td>\n",
       "      <td>76.800000</td>\n",
       "      <td>3.880000</td>\n",
       "      <td>14050.000000</td>\n",
       "    </tr>\n",
       "    <tr>\n",
       "      <td>90%</td>\n",
       "      <td>100.220000</td>\n",
       "      <td>17760.600000</td>\n",
       "      <td>3825.416000</td>\n",
       "      <td>15034.280000</td>\n",
       "      <td>41220.000000</td>\n",
       "      <td>16.640000</td>\n",
       "      <td>80.400000</td>\n",
       "      <td>5.322000</td>\n",
       "      <td>41840.000000</td>\n",
       "    </tr>\n",
       "    <tr>\n",
       "      <td>95%</td>\n",
       "      <td>116.000000</td>\n",
       "      <td>31385.100000</td>\n",
       "      <td>4966.701000</td>\n",
       "      <td>24241.560000</td>\n",
       "      <td>48290.000000</td>\n",
       "      <td>20.870000</td>\n",
       "      <td>81.400000</td>\n",
       "      <td>5.861000</td>\n",
       "      <td>48610.000000</td>\n",
       "    </tr>\n",
       "    <tr>\n",
       "      <td>99%</td>\n",
       "      <td>153.400000</td>\n",
       "      <td>64794.260000</td>\n",
       "      <td>8410.330400</td>\n",
       "      <td>55371.390000</td>\n",
       "      <td>84374.000000</td>\n",
       "      <td>41.478000</td>\n",
       "      <td>82.370000</td>\n",
       "      <td>6.563600</td>\n",
       "      <td>79088.000000</td>\n",
       "    </tr>\n",
       "    <tr>\n",
       "      <td>max</td>\n",
       "      <td>208.000000</td>\n",
       "      <td>183750.000000</td>\n",
       "      <td>8663.600000</td>\n",
       "      <td>149100.000000</td>\n",
       "      <td>125000.000000</td>\n",
       "      <td>104.000000</td>\n",
       "      <td>82.800000</td>\n",
       "      <td>7.490000</td>\n",
       "      <td>105000.000000</td>\n",
       "    </tr>\n",
       "  </tbody>\n",
       "</table>\n",
       "</div>"
      ],
      "text/plain": [
       "       child_mort        exports       health        imports         income  \\\n",
       "count  167.000000     167.000000   167.000000     167.000000     167.000000   \n",
       "mean    38.270060    7420.618847  1056.733204    6588.352108   17144.688623   \n",
       "std     40.328931   17973.885795  1801.408906   14710.810418   19278.067698   \n",
       "min      2.600000       1.076920    12.821200       0.651092     609.000000   \n",
       "25%      8.250000     447.140000    78.535500     640.215000    3355.000000   \n",
       "50%     19.300000    1777.440000   321.886000    2045.580000    9960.000000   \n",
       "75%     62.100000    7278.000000   976.940000    7719.600000   22800.000000   \n",
       "90%    100.220000   17760.600000  3825.416000   15034.280000   41220.000000   \n",
       "95%    116.000000   31385.100000  4966.701000   24241.560000   48290.000000   \n",
       "99%    153.400000   64794.260000  8410.330400   55371.390000   84374.000000   \n",
       "max    208.000000  183750.000000  8663.600000  149100.000000  125000.000000   \n",
       "\n",
       "        inflation  life_expec   total_fer           gdpp  \n",
       "count  167.000000  167.000000  167.000000     167.000000  \n",
       "mean     7.781832   70.555689    2.947964   12964.155689  \n",
       "std     10.570704    8.893172    1.513848   18328.704809  \n",
       "min     -4.210000   32.100000    1.150000     231.000000  \n",
       "25%      1.810000   65.300000    1.795000    1330.000000  \n",
       "50%      5.390000   73.100000    2.410000    4660.000000  \n",
       "75%     10.750000   76.800000    3.880000   14050.000000  \n",
       "90%     16.640000   80.400000    5.322000   41840.000000  \n",
       "95%     20.870000   81.400000    5.861000   48610.000000  \n",
       "99%     41.478000   82.370000    6.563600   79088.000000  \n",
       "max    104.000000   82.800000    7.490000  105000.000000  "
      ]
     },
     "execution_count": 245,
     "metadata": {},
     "output_type": "execute_result"
    }
   ],
   "source": [
    "#Finding if there are outliers\n",
    "df.describe(percentiles=[.25,.5,.75,.90,.95,.99])"
   ]
  },
  {
   "cell_type": "code",
   "execution_count": 246,
   "metadata": {},
   "outputs": [],
   "source": [
    "df1=df"
   ]
  },
  {
   "cell_type": "code",
   "execution_count": 247,
   "metadata": {},
   "outputs": [
    {
     "data": {
      "text/plain": [
       "<bound method NDFrame.head of                  country  child_mort  exports    health   imports  income  \\\n",
       "0            Afghanistan        90.2    55.30   41.9174   248.297    1610   \n",
       "1                Albania        16.6  1145.20  267.8950  1987.740    9930   \n",
       "2                Algeria        27.3  1712.64  185.9820  1400.440   12900   \n",
       "3                 Angola       119.0  2199.19  100.6050  1514.370    5900   \n",
       "4    Antigua and Barbuda        10.3  5551.00  735.6600  7185.800   19100   \n",
       "..                   ...         ...      ...       ...       ...     ...   \n",
       "162              Vanuatu        29.2  1384.02  155.9250  1565.190    2950   \n",
       "163            Venezuela        17.1  3847.50  662.8500  2376.000   16500   \n",
       "164              Vietnam        23.3   943.20   89.6040  1050.620    4490   \n",
       "165                Yemen        56.3   393.00   67.8580   450.640    4480   \n",
       "166               Zambia        83.1   540.20   85.9940   451.140    3280   \n",
       "\n",
       "     inflation  life_expec  total_fer   gdpp  \n",
       "0         9.44        56.2       5.82    553  \n",
       "1         4.49        76.3       1.65   4090  \n",
       "2        16.10        76.5       2.89   4460  \n",
       "3        22.40        60.1       6.16   3530  \n",
       "4         1.44        76.8       2.13  12200  \n",
       "..         ...         ...        ...    ...  \n",
       "162       2.62        63.0       3.50   2970  \n",
       "163      45.90        75.4       2.47  13500  \n",
       "164      12.10        73.1       1.95   1310  \n",
       "165      23.60        67.5       4.67   1310  \n",
       "166      14.00        52.0       5.40   1460  \n",
       "\n",
       "[167 rows x 10 columns]>"
      ]
     },
     "execution_count": 247,
     "metadata": {},
     "output_type": "execute_result"
    }
   ],
   "source": [
    "df1.head"
   ]
  },
  {
   "cell_type": "markdown",
   "metadata": {},
   "source": [
    "### Removing outliers"
   ]
  },
  {
   "cell_type": "code",
   "execution_count": 248,
   "metadata": {},
   "outputs": [],
   "source": [
    "# removing outliers in imports\n",
    "Q1 = df1.imports.quantile(0.05)\n",
    "Q3 = df1.imports.quantile(0.95)\n",
    "IQR = Q3 - Q1\n",
    "df1 = df1[(df1.imports >= Q1 - 1.5*IQR) & (df1.imports <= Q3 + 1.5*IQR)]\n",
    "\n",
    "# removing outliers in child_mort\n",
    "Q1 = df1.child_mort.quantile(0.05)\n",
    "Q3 = df1.child_mort.quantile(0.95)\n",
    "IQR = Q3 - Q1\n",
    "df1 = df1[(df1.child_mort >= Q1 - 1.5*IQR) & (df1.child_mort <= Q3 + 1.5*IQR)]\n",
    "\n",
    "# removing outliers in health\n",
    "Q1 = df1.health.quantile(0.05)\n",
    "Q3 = df1.health.quantile(0.95)\n",
    "IQR = Q3 - Q1\n",
    "df1 = df1[(df1.health >= Q1 - 1.5*IQR) & (df1.health <= Q3 + 1.5*IQR)]\n",
    "\n",
    "# removing outliers in exports\n",
    "Q1 = df1.exports.quantile(0.05)\n",
    "Q3 = df1.exports.quantile(0.95)\n",
    "IQR = Q3 - Q1\n",
    "df1 = df1[(df1.exports >= Q1 - 1.5*IQR) & (df1.exports <= Q3 + 1.5*IQR)]\n",
    "\n",
    "# removing outliers in inflation\n",
    "Q1 = df1.inflation.quantile(0.05)\n",
    "Q3 = df1.inflation.quantile(0.95)\n",
    "IQR = Q3 - Q1\n",
    "df1 = df1[(df1.inflation >= Q1 - 1.5*IQR) & (df1.inflation <= Q3 + 1.5*IQR)]\n",
    "\n",
    "# removing outliers income\n",
    "Q1 = df1.income.quantile(0.05)\n",
    "Q3 = df1.income.quantile(0.95)\n",
    "IQR = Q3 - Q1\n",
    "df1 = df1[(df1.income >= Q1 - 1.5*IQR) & (df1.income <= Q3 + 1.5*IQR)]\n",
    "\n",
    "# removing outliers in gdpp\n",
    "Q1 = df1.gdpp.quantile(0.05)\n",
    "Q3 = df1.gdpp.quantile(0.95)\n",
    "IQR = Q3 - Q1\n",
    "df1 = df1[(df1.gdpp >= Q1 - 1.5*IQR) & (df1.gdpp <= Q3 + 1.5*IQR)]\n",
    "\n",
    "# removing outliers in life_expec\n",
    "Q1 = df1.life_expec.quantile(0.05)\n",
    "Q3 = df1.life_expec.quantile(0.95)\n",
    "IQR = Q3 - Q1\n",
    "df1 = df1[(df1.life_expec >= Q1 - 1.5*IQR) & (df1.life_expec <= Q3 + 1.5*IQR)]\n",
    "\n",
    "# removing outliers in total_fer\n",
    "Q1 = df1.total_fer.quantile(0.05)\n",
    "Q3 = df1.total_fer.quantile(0.95)\n",
    "IQR = Q3 - Q1\n",
    "df1 = df1[(df1.total_fer >= Q1 - 1.5*IQR) & (df1.total_fer <= Q3 + 1.5*IQR)]\n",
    "\n"
   ]
  },
  {
   "cell_type": "code",
   "execution_count": 249,
   "metadata": {},
   "outputs": [
    {
     "data": {
      "text/html": [
       "<div>\n",
       "<style scoped>\n",
       "    .dataframe tbody tr th:only-of-type {\n",
       "        vertical-align: middle;\n",
       "    }\n",
       "\n",
       "    .dataframe tbody tr th {\n",
       "        vertical-align: top;\n",
       "    }\n",
       "\n",
       "    .dataframe thead th {\n",
       "        text-align: right;\n",
       "    }\n",
       "</style>\n",
       "<table border=\"1\" class=\"dataframe\">\n",
       "  <thead>\n",
       "    <tr style=\"text-align: right;\">\n",
       "      <th></th>\n",
       "      <th>country</th>\n",
       "      <th>child_mort</th>\n",
       "      <th>exports</th>\n",
       "      <th>health</th>\n",
       "      <th>imports</th>\n",
       "      <th>income</th>\n",
       "      <th>inflation</th>\n",
       "      <th>life_expec</th>\n",
       "      <th>total_fer</th>\n",
       "      <th>gdpp</th>\n",
       "    </tr>\n",
       "  </thead>\n",
       "  <tbody>\n",
       "    <tr>\n",
       "      <td>0</td>\n",
       "      <td>Afghanistan</td>\n",
       "      <td>90.2</td>\n",
       "      <td>55.30</td>\n",
       "      <td>41.9174</td>\n",
       "      <td>248.297</td>\n",
       "      <td>1610</td>\n",
       "      <td>9.44</td>\n",
       "      <td>56.2</td>\n",
       "      <td>5.82</td>\n",
       "      <td>553</td>\n",
       "    </tr>\n",
       "    <tr>\n",
       "      <td>1</td>\n",
       "      <td>Albania</td>\n",
       "      <td>16.6</td>\n",
       "      <td>1145.20</td>\n",
       "      <td>267.8950</td>\n",
       "      <td>1987.740</td>\n",
       "      <td>9930</td>\n",
       "      <td>4.49</td>\n",
       "      <td>76.3</td>\n",
       "      <td>1.65</td>\n",
       "      <td>4090</td>\n",
       "    </tr>\n",
       "    <tr>\n",
       "      <td>2</td>\n",
       "      <td>Algeria</td>\n",
       "      <td>27.3</td>\n",
       "      <td>1712.64</td>\n",
       "      <td>185.9820</td>\n",
       "      <td>1400.440</td>\n",
       "      <td>12900</td>\n",
       "      <td>16.10</td>\n",
       "      <td>76.5</td>\n",
       "      <td>2.89</td>\n",
       "      <td>4460</td>\n",
       "    </tr>\n",
       "    <tr>\n",
       "      <td>3</td>\n",
       "      <td>Angola</td>\n",
       "      <td>119.0</td>\n",
       "      <td>2199.19</td>\n",
       "      <td>100.6050</td>\n",
       "      <td>1514.370</td>\n",
       "      <td>5900</td>\n",
       "      <td>22.40</td>\n",
       "      <td>60.1</td>\n",
       "      <td>6.16</td>\n",
       "      <td>3530</td>\n",
       "    </tr>\n",
       "    <tr>\n",
       "      <td>4</td>\n",
       "      <td>Antigua and Barbuda</td>\n",
       "      <td>10.3</td>\n",
       "      <td>5551.00</td>\n",
       "      <td>735.6600</td>\n",
       "      <td>7185.800</td>\n",
       "      <td>19100</td>\n",
       "      <td>1.44</td>\n",
       "      <td>76.8</td>\n",
       "      <td>2.13</td>\n",
       "      <td>12200</td>\n",
       "    </tr>\n",
       "  </tbody>\n",
       "</table>\n",
       "</div>"
      ],
      "text/plain": [
       "               country  child_mort  exports    health   imports  income  \\\n",
       "0          Afghanistan        90.2    55.30   41.9174   248.297    1610   \n",
       "1              Albania        16.6  1145.20  267.8950  1987.740    9930   \n",
       "2              Algeria        27.3  1712.64  185.9820  1400.440   12900   \n",
       "3               Angola       119.0  2199.19  100.6050  1514.370    5900   \n",
       "4  Antigua and Barbuda        10.3  5551.00  735.6600  7185.800   19100   \n",
       "\n",
       "   inflation  life_expec  total_fer   gdpp  \n",
       "0       9.44        56.2       5.82    553  \n",
       "1       4.49        76.3       1.65   4090  \n",
       "2      16.10        76.5       2.89   4460  \n",
       "3      22.40        60.1       6.16   3530  \n",
       "4       1.44        76.8       2.13  12200  "
      ]
     },
     "execution_count": 249,
     "metadata": {},
     "output_type": "execute_result"
    }
   ],
   "source": [
    "df1.head()"
   ]
  },
  {
   "cell_type": "code",
   "execution_count": 250,
   "metadata": {},
   "outputs": [
    {
     "data": {
      "text/plain": [
       "(163, 10)"
      ]
     },
     "execution_count": 250,
     "metadata": {},
     "output_type": "execute_result"
    }
   ],
   "source": [
    "df1.shape"
   ]
  },
  {
   "cell_type": "markdown",
   "metadata": {},
   "source": [
    "# Data Preparation"
   ]
  },
  {
   "cell_type": "code",
   "execution_count": 251,
   "metadata": {},
   "outputs": [],
   "source": [
    "#checking correlation between variables"
   ]
  },
  {
   "cell_type": "code",
   "execution_count": 252,
   "metadata": {},
   "outputs": [
    {
     "data": {
      "text/plain": [
       "<matplotlib.axes._subplots.AxesSubplot at 0x1960f822248>"
      ]
     },
     "execution_count": 252,
     "metadata": {},
     "output_type": "execute_result"
    },
    {
     "data": {
      "image/png": "[encoded data removed]",
      "text/plain": [
       "<Figure size 720x720 with 2 Axes>"
      ]
     },
     "metadata": {
      "needs_background": "light"
     },
     "output_type": "display_data"
    }
   ],
   "source": [
    "plt.figure(figsize = (10,10))        \n",
    "sns.heatmap(df.corr(),annot = True)"
   ]
  },
  {
   "cell_type": "code",
   "execution_count": 253,
   "metadata": {},
   "outputs": [
    {
     "data": {
      "text/plain": [
       "<matplotlib.axes._subplots.AxesSubplot at 0x196171efc08>"
      ]
     },
     "execution_count": 253,
     "metadata": {},
     "output_type": "execute_result"
    },
    {
     "data": {
      "image/png": "[encoded data removed]",
      "text/plain": [
       "<Figure size 720x720 with 2 Axes>"
      ]
     },
     "metadata": {
      "needs_background": "light"
     },
     "output_type": "display_data"
    }
   ],
   "source": [
    "plt.figure(figsize = (10,10))        \n",
    "sns.heatmap(df1.corr(),annot = True)"
   ]
  },
  {
   "cell_type": "code",
   "execution_count": 254,
   "metadata": {},
   "outputs": [],
   "source": [
    "#the data is highly correlated hence we can use pca"
   ]
  },
  {
   "cell_type": "code",
   "execution_count": 255,
   "metadata": {},
   "outputs": [],
   "source": [
    "#Now the  country column wont be included in our analysis in order to perform pca calculations,later we will add it to pc data"
   ]
  },
  {
   "cell_type": "code",
   "execution_count": 256,
   "metadata": {},
   "outputs": [
    {
     "data": {
      "text/html": [
       "<div>\n",
       "<style scoped>\n",
       "    .dataframe tbody tr th:only-of-type {\n",
       "        vertical-align: middle;\n",
       "    }\n",
       "\n",
       "    .dataframe tbody tr th {\n",
       "        vertical-align: top;\n",
       "    }\n",
       "\n",
       "    .dataframe thead th {\n",
       "        text-align: right;\n",
       "    }\n",
       "</style>\n",
       "<table border=\"1\" class=\"dataframe\">\n",
       "  <thead>\n",
       "    <tr style=\"text-align: right;\">\n",
       "      <th></th>\n",
       "      <th>child_mort</th>\n",
       "      <th>exports</th>\n",
       "      <th>health</th>\n",
       "      <th>imports</th>\n",
       "      <th>income</th>\n",
       "      <th>inflation</th>\n",
       "      <th>life_expec</th>\n",
       "      <th>total_fer</th>\n",
       "      <th>gdpp</th>\n",
       "    </tr>\n",
       "  </thead>\n",
       "  <tbody>\n",
       "    <tr>\n",
       "      <td>0</td>\n",
       "      <td>90.2</td>\n",
       "      <td>55.30</td>\n",
       "      <td>41.9174</td>\n",
       "      <td>248.297</td>\n",
       "      <td>1610</td>\n",
       "      <td>9.44</td>\n",
       "      <td>56.2</td>\n",
       "      <td>5.82</td>\n",
       "      <td>553</td>\n",
       "    </tr>\n",
       "    <tr>\n",
       "      <td>1</td>\n",
       "      <td>16.6</td>\n",
       "      <td>1145.20</td>\n",
       "      <td>267.8950</td>\n",
       "      <td>1987.740</td>\n",
       "      <td>9930</td>\n",
       "      <td>4.49</td>\n",
       "      <td>76.3</td>\n",
       "      <td>1.65</td>\n",
       "      <td>4090</td>\n",
       "    </tr>\n",
       "    <tr>\n",
       "      <td>2</td>\n",
       "      <td>27.3</td>\n",
       "      <td>1712.64</td>\n",
       "      <td>185.9820</td>\n",
       "      <td>1400.440</td>\n",
       "      <td>12900</td>\n",
       "      <td>16.10</td>\n",
       "      <td>76.5</td>\n",
       "      <td>2.89</td>\n",
       "      <td>4460</td>\n",
       "    </tr>\n",
       "    <tr>\n",
       "      <td>3</td>\n",
       "      <td>119.0</td>\n",
       "      <td>2199.19</td>\n",
       "      <td>100.6050</td>\n",
       "      <td>1514.370</td>\n",
       "      <td>5900</td>\n",
       "      <td>22.40</td>\n",
       "      <td>60.1</td>\n",
       "      <td>6.16</td>\n",
       "      <td>3530</td>\n",
       "    </tr>\n",
       "    <tr>\n",
       "      <td>4</td>\n",
       "      <td>10.3</td>\n",
       "      <td>5551.00</td>\n",
       "      <td>735.6600</td>\n",
       "      <td>7185.800</td>\n",
       "      <td>19100</td>\n",
       "      <td>1.44</td>\n",
       "      <td>76.8</td>\n",
       "      <td>2.13</td>\n",
       "      <td>12200</td>\n",
       "    </tr>\n",
       "  </tbody>\n",
       "</table>\n",
       "</div>"
      ],
      "text/plain": [
       "   child_mort  exports    health   imports  income  inflation  life_expec  \\\n",
       "0        90.2    55.30   41.9174   248.297    1610       9.44        56.2   \n",
       "1        16.6  1145.20  267.8950  1987.740    9930       4.49        76.3   \n",
       "2        27.3  1712.64  185.9820  1400.440   12900      16.10        76.5   \n",
       "3       119.0  2199.19  100.6050  1514.370    5900      22.40        60.1   \n",
       "4        10.3  5551.00  735.6600  7185.800   19100       1.44        76.8   \n",
       "\n",
       "   total_fer   gdpp  \n",
       "0       5.82    553  \n",
       "1       1.65   4090  \n",
       "2       2.89   4460  \n",
       "3       6.16   3530  \n",
       "4       2.13  12200  "
      ]
     },
     "execution_count": 256,
     "metadata": {},
     "output_type": "execute_result"
    }
   ],
   "source": [
    "df2=df1.drop(['country'],axis=1)\n",
    "df2.head() "
   ]
  },
  {
   "cell_type": "code",
   "execution_count": 257,
   "metadata": {},
   "outputs": [],
   "source": [
    "#scaling and array conversion\n",
    "from sklearn.preprocessing import StandardScaler\n",
    "standard_scaler = StandardScaler()\n",
    "df3 = standard_scaler.fit_transform(df2)"
   ]
  },
  {
   "cell_type": "code",
   "execution_count": 258,
   "metadata": {},
   "outputs": [
    {
     "data": {
      "text/plain": [
       "array([[ 1.30346558, -0.61761722, -0.5620229 , ..., -1.61238099,\n",
       "         1.91131511, -0.70245521],\n",
       "       [-0.54578122, -0.49689676, -0.43120409, ...,  0.66638867,\n",
       "        -0.87033099, -0.48361951],\n",
       "       [-0.27693692, -0.43404548, -0.47862366, ...,  0.689063  ,\n",
       "        -0.04317483, -0.46072745],\n",
       "       ...,\n",
       "       [-0.37743946, -0.51927086, -0.53441704, ...,  0.30359947,\n",
       "        -0.67021256, -0.6556193 ],\n",
       "       [ 0.45170652, -0.58021259, -0.54700584, ..., -0.33128163,\n",
       "         1.14419449, -0.6556193 ],\n",
       "       [ 1.12507357, -0.5639083 , -0.53650688, ..., -2.08854181,\n",
       "         1.63114932, -0.64633873]])"
      ]
     },
     "execution_count": 258,
     "metadata": {},
     "output_type": "execute_result"
    }
   ],
   "source": [
    "df3"
   ]
  },
  {
   "cell_type": "markdown",
   "metadata": {},
   "source": [
    "## applying pca "
   ]
  },
  {
   "cell_type": "code",
   "execution_count": 259,
   "metadata": {},
   "outputs": [],
   "source": [
    "from sklearn.decomposition import PCA\n",
    "pca = PCA(svd_solver='randomized', random_state=42)"
   ]
  },
  {
   "cell_type": "code",
   "execution_count": 260,
   "metadata": {},
   "outputs": [
    {
     "data": {
      "text/plain": [
       "PCA(copy=True, iterated_power='auto', n_components=None, random_state=42,\n",
       "    svd_solver='randomized', tol=0.0, whiten=False)"
      ]
     },
     "execution_count": 260,
     "metadata": {},
     "output_type": "execute_result"
    }
   ],
   "source": [
    "pca.fit(df3)"
   ]
  },
  {
   "cell_type": "code",
   "execution_count": 261,
   "metadata": {},
   "outputs": [
    {
     "data": {
      "image/png": "[encoded data removed]",
      "text/plain": [
       "<Figure size 864x576 with 1 Axes>"
      ]
     },
     "metadata": {
      "needs_background": "light"
     },
     "output_type": "display_data"
    }
   ],
   "source": [
    "%matplotlib inline\n",
    "fig = plt.figure(figsize = (12,8))\n",
    "plt.plot(np.cumsum(pca.explained_variance_ratio_))\n",
    "plt.xlabel('no. of components')\n",
    "plt.ylabel('cumulative explained variance')\n",
    "plt.show()"
   ]
  },
  {
   "cell_type": "markdown",
   "metadata": {},
   "source": [
    "4 PCs can explain more than 95%of the data ,hence taking four compponents"
   ]
  },
  {
   "cell_type": "code",
   "execution_count": 262,
   "metadata": {},
   "outputs": [
    {
     "data": {
      "text/plain": [
       "array([[-0.30698428,  0.36360862,  0.35765024,  0.36956682,  0.37409574,\n",
       "        -0.15167333,  0.33453424, -0.29199051,  0.38591716],\n",
       "       [ 0.51615625,  0.31577145,  0.26181863,  0.27417341,  0.12071875,\n",
       "         0.0755424 , -0.39447983,  0.50457263,  0.24426115],\n",
       "       [-0.11002365,  0.06608226, -0.06888596, -0.03445985,  0.20413194,\n",
       "         0.96056568,  0.11005041,  0.0028528 ,  0.03346145],\n",
       "       [ 0.02242295, -0.49457432,  0.59468911, -0.46835452,  0.03495056,\n",
       "         0.02383563,  0.16087345,  0.17651624,  0.35079116],\n",
       "       [ 0.22424908, -0.09605826,  0.05175913, -0.1778861 ,  0.2987636 ,\n",
       "         0.03137184, -0.58328247, -0.68187063,  0.10369577],\n",
       "       [ 0.05240946, -0.02328102, -0.43013634, -0.29937657,  0.76091377,\n",
       "        -0.21241085,  0.12953054,  0.28334395,  0.02995917],\n",
       "       [ 0.75727112, -0.00187263, -0.05090905,  0.03359657, -0.04993945,\n",
       "         0.03081609,  0.57982829, -0.28572785, -0.03913646],\n",
       "       [ 0.01119169, -0.1093388 ,  0.46880607,  0.16126166,  0.34167563,\n",
       "         0.00191661,  0.00961634,  0.03402479, -0.79002484],\n",
       "       [ 0.01077908, -0.70525092, -0.1872692 ,  0.64753535,  0.12289154,\n",
       "         0.03127485, -0.03451421,  0.03086149,  0.17294235]])"
      ]
     },
     "execution_count": 262,
     "metadata": {},
     "output_type": "execute_result"
    }
   ],
   "source": [
    "pca.components_"
   ]
  },
  {
   "cell_type": "code",
   "execution_count": 263,
   "metadata": {},
   "outputs": [
    {
     "data": {
      "text/html": [
       "<div>\n",
       "<style scoped>\n",
       "    .dataframe tbody tr th:only-of-type {\n",
       "        vertical-align: middle;\n",
       "    }\n",
       "\n",
       "    .dataframe tbody tr th {\n",
       "        vertical-align: top;\n",
       "    }\n",
       "\n",
       "    .dataframe thead th {\n",
       "        text-align: right;\n",
       "    }\n",
       "</style>\n",
       "<table border=\"1\" class=\"dataframe\">\n",
       "  <thead>\n",
       "    <tr style=\"text-align: right;\">\n",
       "      <th></th>\n",
       "      <th>child_mort</th>\n",
       "      <th>exports</th>\n",
       "      <th>health</th>\n",
       "      <th>imports</th>\n",
       "      <th>income</th>\n",
       "      <th>inflation</th>\n",
       "      <th>life_expec</th>\n",
       "      <th>total_fer</th>\n",
       "      <th>gdpp</th>\n",
       "    </tr>\n",
       "  </thead>\n",
       "  <tbody>\n",
       "    <tr>\n",
       "      <td>0</td>\n",
       "      <td>90.2</td>\n",
       "      <td>55.30</td>\n",
       "      <td>41.9174</td>\n",
       "      <td>248.297</td>\n",
       "      <td>1610</td>\n",
       "      <td>9.44</td>\n",
       "      <td>56.2</td>\n",
       "      <td>5.82</td>\n",
       "      <td>553</td>\n",
       "    </tr>\n",
       "    <tr>\n",
       "      <td>1</td>\n",
       "      <td>16.6</td>\n",
       "      <td>1145.20</td>\n",
       "      <td>267.8950</td>\n",
       "      <td>1987.740</td>\n",
       "      <td>9930</td>\n",
       "      <td>4.49</td>\n",
       "      <td>76.3</td>\n",
       "      <td>1.65</td>\n",
       "      <td>4090</td>\n",
       "    </tr>\n",
       "    <tr>\n",
       "      <td>2</td>\n",
       "      <td>27.3</td>\n",
       "      <td>1712.64</td>\n",
       "      <td>185.9820</td>\n",
       "      <td>1400.440</td>\n",
       "      <td>12900</td>\n",
       "      <td>16.10</td>\n",
       "      <td>76.5</td>\n",
       "      <td>2.89</td>\n",
       "      <td>4460</td>\n",
       "    </tr>\n",
       "    <tr>\n",
       "      <td>3</td>\n",
       "      <td>119.0</td>\n",
       "      <td>2199.19</td>\n",
       "      <td>100.6050</td>\n",
       "      <td>1514.370</td>\n",
       "      <td>5900</td>\n",
       "      <td>22.40</td>\n",
       "      <td>60.1</td>\n",
       "      <td>6.16</td>\n",
       "      <td>3530</td>\n",
       "    </tr>\n",
       "    <tr>\n",
       "      <td>4</td>\n",
       "      <td>10.3</td>\n",
       "      <td>5551.00</td>\n",
       "      <td>735.6600</td>\n",
       "      <td>7185.800</td>\n",
       "      <td>19100</td>\n",
       "      <td>1.44</td>\n",
       "      <td>76.8</td>\n",
       "      <td>2.13</td>\n",
       "      <td>12200</td>\n",
       "    </tr>\n",
       "  </tbody>\n",
       "</table>\n",
       "</div>"
      ],
      "text/plain": [
       "   child_mort  exports    health   imports  income  inflation  life_expec  \\\n",
       "0        90.2    55.30   41.9174   248.297    1610       9.44        56.2   \n",
       "1        16.6  1145.20  267.8950  1987.740    9930       4.49        76.3   \n",
       "2        27.3  1712.64  185.9820  1400.440   12900      16.10        76.5   \n",
       "3       119.0  2199.19  100.6050  1514.370    5900      22.40        60.1   \n",
       "4        10.3  5551.00  735.6600  7185.800   19100       1.44        76.8   \n",
       "\n",
       "   total_fer   gdpp  \n",
       "0       5.82    553  \n",
       "1       1.65   4090  \n",
       "2       2.89   4460  \n",
       "3       6.16   3530  \n",
       "4       2.13  12200  "
      ]
     },
     "execution_count": 263,
     "metadata": {},
     "output_type": "execute_result"
    }
   ],
   "source": [
    "colnames = list(df2.columns)\n",
    "df2.head()"
   ]
  },
  {
   "cell_type": "code",
   "execution_count": 264,
   "metadata": {},
   "outputs": [
    {
     "data": {
      "text/html": [
       "<div>\n",
       "<style scoped>\n",
       "    .dataframe tbody tr th:only-of-type {\n",
       "        vertical-align: middle;\n",
       "    }\n",
       "\n",
       "    .dataframe tbody tr th {\n",
       "        vertical-align: top;\n",
       "    }\n",
       "\n",
       "    .dataframe thead th {\n",
       "        text-align: right;\n",
       "    }\n",
       "</style>\n",
       "<table border=\"1\" class=\"dataframe\">\n",
       "  <thead>\n",
       "    <tr style=\"text-align: right;\">\n",
       "      <th></th>\n",
       "      <th>Feature</th>\n",
       "      <th>PC1</th>\n",
       "      <th>PC2</th>\n",
       "      <th>PC3</th>\n",
       "      <th>PC4</th>\n",
       "    </tr>\n",
       "  </thead>\n",
       "  <tbody>\n",
       "    <tr>\n",
       "      <td>0</td>\n",
       "      <td>child_mort</td>\n",
       "      <td>-0.306984</td>\n",
       "      <td>0.516156</td>\n",
       "      <td>-0.110024</td>\n",
       "      <td>0.022423</td>\n",
       "    </tr>\n",
       "    <tr>\n",
       "      <td>1</td>\n",
       "      <td>exports</td>\n",
       "      <td>0.363609</td>\n",
       "      <td>0.315771</td>\n",
       "      <td>0.066082</td>\n",
       "      <td>-0.494574</td>\n",
       "    </tr>\n",
       "    <tr>\n",
       "      <td>2</td>\n",
       "      <td>health</td>\n",
       "      <td>0.357650</td>\n",
       "      <td>0.261819</td>\n",
       "      <td>-0.068886</td>\n",
       "      <td>0.594689</td>\n",
       "    </tr>\n",
       "    <tr>\n",
       "      <td>3</td>\n",
       "      <td>imports</td>\n",
       "      <td>0.369567</td>\n",
       "      <td>0.274173</td>\n",
       "      <td>-0.034460</td>\n",
       "      <td>-0.468355</td>\n",
       "    </tr>\n",
       "    <tr>\n",
       "      <td>4</td>\n",
       "      <td>income</td>\n",
       "      <td>0.374096</td>\n",
       "      <td>0.120719</td>\n",
       "      <td>0.204132</td>\n",
       "      <td>0.034951</td>\n",
       "    </tr>\n",
       "    <tr>\n",
       "      <td>5</td>\n",
       "      <td>inflation</td>\n",
       "      <td>-0.151673</td>\n",
       "      <td>0.075542</td>\n",
       "      <td>0.960566</td>\n",
       "      <td>0.023836</td>\n",
       "    </tr>\n",
       "    <tr>\n",
       "      <td>6</td>\n",
       "      <td>life_expec</td>\n",
       "      <td>0.334534</td>\n",
       "      <td>-0.394480</td>\n",
       "      <td>0.110050</td>\n",
       "      <td>0.160873</td>\n",
       "    </tr>\n",
       "    <tr>\n",
       "      <td>7</td>\n",
       "      <td>total_fer</td>\n",
       "      <td>-0.291991</td>\n",
       "      <td>0.504573</td>\n",
       "      <td>0.002853</td>\n",
       "      <td>0.176516</td>\n",
       "    </tr>\n",
       "    <tr>\n",
       "      <td>8</td>\n",
       "      <td>gdpp</td>\n",
       "      <td>0.385917</td>\n",
       "      <td>0.244261</td>\n",
       "      <td>0.033461</td>\n",
       "      <td>0.350791</td>\n",
       "    </tr>\n",
       "  </tbody>\n",
       "</table>\n",
       "</div>"
      ],
      "text/plain": [
       "      Feature       PC1       PC2       PC3       PC4\n",
       "0  child_mort -0.306984  0.516156 -0.110024  0.022423\n",
       "1     exports  0.363609  0.315771  0.066082 -0.494574\n",
       "2      health  0.357650  0.261819 -0.068886  0.594689\n",
       "3     imports  0.369567  0.274173 -0.034460 -0.468355\n",
       "4      income  0.374096  0.120719  0.204132  0.034951\n",
       "5   inflation -0.151673  0.075542  0.960566  0.023836\n",
       "6  life_expec  0.334534 -0.394480  0.110050  0.160873\n",
       "7   total_fer -0.291991  0.504573  0.002853  0.176516\n",
       "8        gdpp  0.385917  0.244261  0.033461  0.350791"
      ]
     },
     "execution_count": 264,
     "metadata": {},
     "output_type": "execute_result"
    }
   ],
   "source": [
    "#checking pca components\n",
    "pcs_df = pd.DataFrame({ 'Feature':colnames,'PC1':pca.components_[0],'PC2':pca.components_[1],'PC3':pca.components_[2],'PC4':pca.components_[3]})\n",
    "pcs_df"
   ]
  },
  {
   "cell_type": "code",
   "execution_count": 265,
   "metadata": {},
   "outputs": [
    {
     "data": {
      "image/png": "[encoded data removed]",
      "text/plain": [
       "<Figure size 576x576 with 1 Axes>"
      ]
     },
     "metadata": {
      "needs_background": "light"
     },
     "output_type": "display_data"
    }
   ],
   "source": [
    "#  visualising how these features are loaded\n",
    "%matplotlib inline\n",
    "fig = plt.figure(figsize = (8,8))\n",
    "plt.scatter(pcs_df.PC1, pcs_df.PC2)\n",
    "plt.xlabel('Principal Component 1')\n",
    "plt.ylabel('Principal Component 2')\n",
    "for i, txt in enumerate(pcs_df.Feature):\n",
    "    plt.annotate(txt, (pcs_df.PC1[i],pcs_df.PC2[i]))\n",
    "plt.tight_layout()\n",
    "plt.show()"
   ]
  },
  {
   "cell_type": "code",
   "execution_count": 266,
   "metadata": {},
   "outputs": [
    {
     "data": {
      "image/png": "[encoded data removed]",
      "text/plain": [
       "<Figure size 576x576 with 1 Axes>"
      ]
     },
     "metadata": {
      "needs_background": "light"
     },
     "output_type": "display_data"
    }
   ],
   "source": [
    "%matplotlib inline\n",
    "fig = plt.figure(figsize = (8,8))\n",
    "plt.scatter(pcs_df.PC2, pcs_df.PC3)\n",
    "plt.xlabel('Principal Component 2')\n",
    "plt.ylabel('Principal Component 3')\n",
    "for i, txt in enumerate(pcs_df.Feature):\n",
    "    plt.annotate(txt, (pcs_df.PC2[i],pcs_df.PC3[i]))\n",
    "plt.tight_layout()\n",
    "plt.show()"
   ]
  },
  {
   "cell_type": "code",
   "execution_count": 267,
   "metadata": {},
   "outputs": [
    {
     "data": {
      "image/png": "[encoded data removed]",
      "text/plain": [
       "<Figure size 576x576 with 1 Axes>"
      ]
     },
     "metadata": {
      "needs_background": "light"
     },
     "output_type": "display_data"
    }
   ],
   "source": [
    "%matplotlib inline\n",
    "fig = plt.figure(figsize = (8,8))\n",
    "plt.scatter(pcs_df.PC1, pcs_df.PC3)\n",
    "plt.xlabel('Principal Component 1')\n",
    "plt.ylabel('Principal Component 3')\n",
    "for i, txt in enumerate(pcs_df.Feature):\n",
    "    plt.annotate(txt, (pcs_df.PC1[i],pcs_df.PC3[i]))\n",
    "plt.tight_layout()\n",
    "plt.show()"
   ]
  },
  {
   "cell_type": "code",
   "execution_count": 268,
   "metadata": {},
   "outputs": [
    {
     "data": {
      "image/png": "[encoded data removed]",
      "text/plain": [
       "<Figure size 576x576 with 1 Axes>"
      ]
     },
     "metadata": {
      "needs_background": "light"
     },
     "output_type": "display_data"
    }
   ],
   "source": [
    "%matplotlib inline\n",
    "fig = plt.figure(figsize = (8,8))\n",
    "plt.scatter(pcs_df.PC3, pcs_df.PC4)\n",
    "plt.xlabel('Principal Component 3')\n",
    "plt.ylabel('Principal Component 4')\n",
    "for i, txt in enumerate(pcs_df.Feature):\n",
    "    plt.annotate(txt, (pcs_df.PC3[i],pcs_df.PC4[i]))\n",
    "plt.tight_layout()\n",
    "plt.show()"
   ]
  },
  {
   "cell_type": "code",
   "execution_count": 269,
   "metadata": {},
   "outputs": [
    {
     "data": {
      "image/png": "[encoded data removed]",
      "text/plain": [
       "<Figure size 576x576 with 1 Axes>"
      ]
     },
     "metadata": {
      "needs_background": "light"
     },
     "output_type": "display_data"
    }
   ],
   "source": [
    "%matplotlib inline\n",
    "fig = plt.figure(figsize = (8,8))\n",
    "plt.scatter(pcs_df.PC1, pcs_df.PC3)\n",
    "plt.xlabel('Principal Component 1')\n",
    "plt.ylabel('Principal Component 3')\n",
    "for i, txt in enumerate(pcs_df.Feature):\n",
    "    plt.annotate(txt, (pcs_df.PC1[i],pcs_df.PC4[i]))\n",
    "plt.tight_layout()\n",
    "plt.show()"
   ]
  },
  {
   "cell_type": "code",
   "execution_count": 270,
   "metadata": {},
   "outputs": [
    {
     "data": {
      "image/png": "[encoded data removed]",
      "text/plain": [
       "<Figure size 864x576 with 1 Axes>"
      ]
     },
     "metadata": {
      "needs_background": "light"
     },
     "output_type": "display_data"
    }
   ],
   "source": [
    "\n",
    "#Making the screeplot - plotting the cumulative variance against the number of components\n",
    "%matplotlib inline\n",
    "fig = plt.figure(figsize = (12,8))\n",
    "plt.plot(np.cumsum(pca.explained_variance_ratio_))\n",
    "plt.xlabel('number of components')\n",
    "plt.ylabel('cumulative explained variance')\n",
    "plt.show()"
   ]
  },
  {
   "cell_type": "code",
   "execution_count": 271,
   "metadata": {},
   "outputs": [],
   "source": [
    "#Finally let's do dimensionality reduction using the four Principal Components taking 4 components because it has more than 95% variance\n",
    "from sklearn.decomposition import IncrementalPCA\n",
    "pca_final = IncrementalPCA(n_components=4)"
   ]
  },
  {
   "cell_type": "code",
   "execution_count": 272,
   "metadata": {},
   "outputs": [
    {
     "data": {
      "text/plain": [
       "(163, 4)"
      ]
     },
     "execution_count": 272,
     "metadata": {},
     "output_type": "execute_result"
    }
   ],
   "source": [
    "\n",
    "df_pca = pca_final.fit_transform(df3)\n",
    "df_pca.shape"
   ]
  },
  {
   "cell_type": "code",
   "execution_count": 276,
   "metadata": {},
   "outputs": [
    {
     "data": {
      "text/html": [
       "<div>\n",
       "<style scoped>\n",
       "    .dataframe tbody tr th:only-of-type {\n",
       "        vertical-align: middle;\n",
       "    }\n",
       "\n",
       "    .dataframe tbody tr th {\n",
       "        vertical-align: top;\n",
       "    }\n",
       "\n",
       "    .dataframe thead th {\n",
       "        text-align: right;\n",
       "    }\n",
       "</style>\n",
       "<table border=\"1\" class=\"dataframe\">\n",
       "  <thead>\n",
       "    <tr style=\"text-align: right;\">\n",
       "      <th></th>\n",
       "      <th>country</th>\n",
       "      <th>PC1</th>\n",
       "      <th>PC2</th>\n",
       "      <th>PC3</th>\n",
       "      <th>PC4</th>\n",
       "    </tr>\n",
       "  </thead>\n",
       "  <tbody>\n",
       "    <tr>\n",
       "      <td>0</td>\n",
       "      <td>Afghanistan</td>\n",
       "      <td>-2.811468</td>\n",
       "      <td>1.496008</td>\n",
       "      <td>-0.216736</td>\n",
       "      <td>0.198559</td>\n",
       "    </tr>\n",
       "    <tr>\n",
       "      <td>1</td>\n",
       "      <td>Albania</td>\n",
       "      <td>-0.114329</td>\n",
       "      <td>-1.559719</td>\n",
       "      <td>-0.308422</td>\n",
       "      <td>-0.041978</td>\n",
       "    </tr>\n",
       "    <tr>\n",
       "      <td>2</td>\n",
       "      <td>Algeria</td>\n",
       "      <td>-0.609053</td>\n",
       "      <td>-0.880697</td>\n",
       "      <td>1.208969</td>\n",
       "      <td>0.269774</td>\n",
       "    </tr>\n",
       "    <tr>\n",
       "      <td>3</td>\n",
       "      <td>Angola</td>\n",
       "      <td>-2.882560</td>\n",
       "      <td>2.146956</td>\n",
       "      <td>1.478906</td>\n",
       "      <td>0.317971</td>\n",
       "    </tr>\n",
       "    <tr>\n",
       "      <td>4</td>\n",
       "      <td>Antigua and Barbuda</td>\n",
       "      <td>0.855810</td>\n",
       "      <td>-0.929867</td>\n",
       "      <td>-0.541156</td>\n",
       "      <td>-0.130173</td>\n",
       "    </tr>\n",
       "  </tbody>\n",
       "</table>\n",
       "</div>"
      ],
      "text/plain": [
       "               country       PC1       PC2       PC3       PC4\n",
       "0          Afghanistan -2.811468  1.496008 -0.216736  0.198559\n",
       "1              Albania -0.114329 -1.559719 -0.308422 -0.041978\n",
       "2              Algeria -0.609053 -0.880697  1.208969  0.269774\n",
       "3               Angola -2.882560  2.146956  1.478906  0.317971\n",
       "4  Antigua and Barbuda  0.855810 -0.929867 -0.541156 -0.130173"
      ]
     },
     "execution_count": 276,
     "metadata": {},
     "output_type": "execute_result"
    }
   ],
   "source": [
    "rownames = list(df1['country'])\n",
    "pcs_df2 = pd.DataFrame({'country':rownames,'PC1':pc[0],'PC2':pc[1],'PC3':pc[2],'PC4':pc[3]})\n",
    "pcs_df2.head()"
   ]
  },
  {
   "cell_type": "code",
   "execution_count": 277,
   "metadata": {},
   "outputs": [],
   "source": [
    "pc = np.transpose(df_pca)"
   ]
  },
  {
   "cell_type": "code",
   "execution_count": null,
   "metadata": {},
   "outputs": [],
   "source": []
  },
  {
   "cell_type": "code",
   "execution_count": 278,
   "metadata": {},
   "outputs": [
    {
     "data": {
      "text/html": [
       "<div>\n",
       "<style scoped>\n",
       "    .dataframe tbody tr th:only-of-type {\n",
       "        vertical-align: middle;\n",
       "    }\n",
       "\n",
       "    .dataframe tbody tr th {\n",
       "        vertical-align: top;\n",
       "    }\n",
       "\n",
       "    .dataframe thead th {\n",
       "        text-align: right;\n",
       "    }\n",
       "</style>\n",
       "<table border=\"1\" class=\"dataframe\">\n",
       "  <thead>\n",
       "    <tr style=\"text-align: right;\">\n",
       "      <th></th>\n",
       "      <th>country</th>\n",
       "      <th>PC1</th>\n",
       "      <th>PC2</th>\n",
       "      <th>PC3</th>\n",
       "      <th>PC4</th>\n",
       "    </tr>\n",
       "  </thead>\n",
       "  <tbody>\n",
       "    <tr>\n",
       "      <td>0</td>\n",
       "      <td>Afghanistan</td>\n",
       "      <td>-2.811468</td>\n",
       "      <td>1.496008</td>\n",
       "      <td>-0.216736</td>\n",
       "      <td>0.198559</td>\n",
       "    </tr>\n",
       "    <tr>\n",
       "      <td>1</td>\n",
       "      <td>Albania</td>\n",
       "      <td>-0.114329</td>\n",
       "      <td>-1.559719</td>\n",
       "      <td>-0.308422</td>\n",
       "      <td>-0.041978</td>\n",
       "    </tr>\n",
       "    <tr>\n",
       "      <td>2</td>\n",
       "      <td>Algeria</td>\n",
       "      <td>-0.609053</td>\n",
       "      <td>-0.880697</td>\n",
       "      <td>1.208969</td>\n",
       "      <td>0.269774</td>\n",
       "    </tr>\n",
       "    <tr>\n",
       "      <td>3</td>\n",
       "      <td>Angola</td>\n",
       "      <td>-2.882560</td>\n",
       "      <td>2.146956</td>\n",
       "      <td>1.478906</td>\n",
       "      <td>0.317971</td>\n",
       "    </tr>\n",
       "    <tr>\n",
       "      <td>4</td>\n",
       "      <td>Antigua and Barbuda</td>\n",
       "      <td>0.855810</td>\n",
       "      <td>-0.929867</td>\n",
       "      <td>-0.541156</td>\n",
       "      <td>-0.130173</td>\n",
       "    </tr>\n",
       "  </tbody>\n",
       "</table>\n",
       "</div>"
      ],
      "text/plain": [
       "               country       PC1       PC2       PC3       PC4\n",
       "0          Afghanistan -2.811468  1.496008 -0.216736  0.198559\n",
       "1              Albania -0.114329 -1.559719 -0.308422 -0.041978\n",
       "2              Algeria -0.609053 -0.880697  1.208969  0.269774\n",
       "3               Angola -2.882560  2.146956  1.478906  0.317971\n",
       "4  Antigua and Barbuda  0.855810 -0.929867 -0.541156 -0.130173"
      ]
     },
     "execution_count": 278,
     "metadata": {},
     "output_type": "execute_result"
    }
   ],
   "source": [
    "pcs_df2.head()"
   ]
  },
  {
   "cell_type": "code",
   "execution_count": 335,
   "metadata": {},
   "outputs": [
    {
     "data": {
      "text/plain": [
       "array([[-2.81146808e+00, -1.14328568e-01, -6.09053422e-01,\n",
       "        -2.88255998e+00,  8.55809588e-01, -1.01143563e-01,\n",
       "        -4.81541222e-01,  3.76529886e+00,  4.97864547e+00,\n",
       "        -5.58154466e-01,  1.99042096e+00,  2.01086573e+00,\n",
       "        -1.21224757e+00,  1.08554171e+00, -5.71160890e-02,\n",
       "         5.57694450e+00, -4.26711390e-01, -2.48263062e+00,\n",
       "        -8.38121872e-01, -1.18138199e+00,  1.93273964e-01,\n",
       "        -1.13522181e+00,  7.37002079e-02,  3.53490994e+00,\n",
       "         3.28424831e-01, -2.90849874e+00, -2.96405779e+00,\n",
       "        -1.32938536e+00, -2.55392952e+00,  4.13001641e+00,\n",
       "        -5.95192853e-01, -3.35716889e+00, -3.31630444e+00,\n",
       "         7.56707291e-01, -2.59469162e-01, -1.14342163e-01,\n",
       "        -2.09809977e+00, -3.36398479e+00, -2.21396539e+00,\n",
       "         4.01957809e-01, -2.69699340e+00,  1.00101742e+00,\n",
       "         3.07864290e+00,  2.23968447e+00,  5.74432855e+00,\n",
       "        -4.50134491e-01, -4.16143620e-01, -9.97805607e-01,\n",
       "        -4.44554035e-01, -6.24731707e-01, -2.16100347e+00,\n",
       "         1.47105143e+00, -8.17354564e-01,  4.09150522e+00,\n",
       "         3.46767900e+00, -1.31474288e+00, -2.25473096e+00,\n",
       "        -5.01888717e-01,  4.13485386e+00, -2.21945152e+00,\n",
       "         2.24953695e+00, -7.67056656e-02, -9.83162136e-01,\n",
       "        -2.93214488e+00, -2.74313461e+00, -1.01201572e+00,\n",
       "        -4.05823110e+00,  1.44293384e+00,  4.05852341e+00,\n",
       "        -1.45046505e+00, -1.04150171e+00, -2.17782776e-01,\n",
       "        -1.32609608e+00,  6.90024497e+00,  2.25664185e+00,\n",
       "         3.02620168e+00, -4.06814734e-01,  3.22681151e+00,\n",
       "        -6.01732561e-01, -4.06480235e-01, -1.87333844e+00,\n",
       "        -1.78049481e+00,  3.72836229e+00, -1.28229191e+00,\n",
       "        -1.81062493e+00,  8.68443623e-01,  7.41069368e-01,\n",
       "        -2.54298628e+00, -2.41862609e+00,  6.53578609e-01,\n",
       "         1.05452224e+00,  4.53919126e-02, -2.18576632e+00,\n",
       "        -2.90656244e+00,  6.25850020e-01,  3.18809924e-01,\n",
       "        -3.07415712e+00,  4.06674463e+00, -2.33607282e+00,\n",
       "         4.12245725e-01, -1.20607244e+00, -7.00286599e-01,\n",
       "        -1.59786305e+00,  3.87840043e-01, -6.44698686e-01,\n",
       "        -2.89549959e+00, -1.45670447e+00, -1.33177808e+00,\n",
       "        -1.50282271e+00,  6.17394888e+00,  2.66134453e+00,\n",
       "        -3.18295613e+00,  7.44579043e+00,  1.45185024e+00,\n",
       "        -2.05527048e+00,  4.62698874e-01, -5.87430517e-01,\n",
       "        -2.87892990e-01, -1.06052877e+00,  1.01056899e+00,\n",
       "         2.08240239e+00,  3.01454786e-01,  1.04421034e-01,\n",
       "        -1.90003701e+00, -9.25964815e-01,  1.20068631e+00,\n",
       "        -1.99108253e+00,  1.27375898e-01,  1.12275588e+00,\n",
       "        -3.44764466e+00,  1.94840162e+00,  2.71324646e+00,\n",
       "        -1.66528768e+00, -1.21353531e+00,  2.19835423e+00,\n",
       "         2.62643370e+00, -8.06874855e-01, -2.55051521e-01,\n",
       "        -2.26269981e+00, -1.70690240e-01,  4.94887969e+00,\n",
       "         8.48490639e+00, -1.59609377e+00, -2.45702579e+00,\n",
       "         1.74046461e-01, -2.28345726e+00, -2.37011562e+00,\n",
       "        -9.55541378e-01, -1.16876152e-01,  3.09462294e-01,\n",
       "        -9.02949062e-01, -2.80551618e+00, -5.36669581e-01,\n",
       "         3.84665600e+00,  3.17941997e+00,  4.25357413e+00,\n",
       "         4.78992885e-01, -1.27114971e+00, -1.26348091e+00,\n",
       "        -5.61157573e-01, -7.84576631e-01, -2.06950266e+00,\n",
       "        -2.82711670e+00],\n",
       "       [ 1.49600770e+00, -1.55971933e+00, -8.80696514e-01,\n",
       "         2.14695589e+00, -9.29867339e-01, -8.94981789e-01,\n",
       "        -1.45250373e+00,  3.37927241e-01,  1.15736679e+00,\n",
       "        -6.33743515e-01, -4.03671353e-02, -7.70862271e-02,\n",
       "        -8.59919642e-01, -8.45284129e-01, -1.16441580e+00,\n",
       "         1.94573655e+00, -9.40768364e-01,  1.28405711e+00,\n",
       "        -8.75188775e-01, -5.45859761e-01, -1.78900948e+00,\n",
       "         4.22667959e-01, -1.10182575e+00,  7.07082608e-01,\n",
       "        -1.33730083e+00,  1.74315872e+00,  1.62976516e+00,\n",
       "        -5.62737182e-01,  1.39845615e+00,  6.07100918e-01,\n",
       "        -1.02111399e+00,  2.35155324e+00,  2.50985655e+00,\n",
       "        -1.14133842e+00, -1.52497721e+00, -1.38827914e+00,\n",
       "         6.29388930e-01,  2.11600489e+00,  9.75216635e-01,\n",
       "        -1.44680302e+00,  1.58689751e+00, -1.18637974e+00,\n",
       "        -1.06074692e-01, -5.27952279e-01,  2.04701326e+00,\n",
       "        -8.85784266e-01, -1.08800008e+00, -6.75604419e-01,\n",
       "        -1.31635619e+00,  2.97113134e+00,  3.97297835e-01,\n",
       "        -7.28483207e-01, -6.24611272e-01,  7.11786831e-01,\n",
       "         2.70896186e-01,  8.32229580e-01,  8.65633011e-01,\n",
       "        -1.32898183e+00,  5.41342410e-01,  6.27111830e-01,\n",
       "        -7.44342125e-01, -1.04015382e+00, -6.06575367e-01,\n",
       "         1.56739285e+00,  1.50511025e+00, -4.89431692e-01,\n",
       "         3.22970465e+00, -8.17299185e-01,  8.65343258e-01,\n",
       "        -3.99355591e-01, -7.83620074e-01, -1.19431834e+00,\n",
       "         2.61790826e-01,  2.88197535e+00, -1.86034396e-02,\n",
       "        -3.62114225e-01, -1.22953432e+00, -4.29178854e-01,\n",
       "        -7.25682439e-01, -3.76008639e-01,  2.97117488e-01,\n",
       "         2.64391254e-01,  8.71060702e-01, -7.03851264e-01,\n",
       "         1.59569853e-01, -1.11235808e+00, -1.48909837e+00,\n",
       "         1.22535370e+00,  9.61032282e-01, -5.47524453e-01,\n",
       "        -8.86886422e-01, -1.55034626e+00,  5.01035602e-01,\n",
       "         1.48384618e+00, -8.21656111e-01, -1.17131135e+00,\n",
       "         2.15854989e+00,  8.38512406e-01,  9.26984496e-01,\n",
       "        -1.16537427e+00, -2.19386803e-01, -1.45722619e+00,\n",
       "        -3.76058802e-01, -1.43326795e+00, -1.03681015e+00,\n",
       "         1.59668912e+00, -4.76632282e-01,  4.95328817e-01,\n",
       "        -6.29023275e-01,  2.22879981e+00, -5.62866437e-02,\n",
       "         2.28490217e+00,  3.05757634e+00,  7.41803132e-02,\n",
       "         4.91485733e-01, -8.05849365e-01, -1.01844826e+00,\n",
       "        -1.27795937e+00, -6.78019069e-01, -1.23071488e+00,\n",
       "        -8.38108698e-01, -1.29144520e+00, -9.37393995e-01,\n",
       "         2.64485330e-01, -4.98076321e-01,  8.72094139e-02,\n",
       "         5.37818369e-01, -1.54607253e+00, -5.15679988e-01,\n",
       "         2.31685443e+00, -4.84844756e-01, -2.90550996e-01,\n",
       "        -4.26565389e-02,  3.93543628e-01, -7.91857927e-01,\n",
       "        -6.79606023e-01, -1.29887858e+00, -1.04744473e+00,\n",
       "         6.98983485e-01, -5.75538906e-01,  1.29115203e+00,\n",
       "         3.58204655e+00, -3.24868160e-01,  9.93914502e-01,\n",
       "        -1.48424878e+00,  9.01351010e-01,  9.84112131e-01,\n",
       "        -5.88574770e-01, -1.37113086e+00, -1.12531476e+00,\n",
       "        -1.60384887e-01,  1.47342993e+00, -1.38849136e+00,\n",
       "         1.09916485e+00,  1.29646282e-01,  8.89098813e-01,\n",
       "        -1.10384931e+00, -8.11020586e-01, -2.91961765e-01,\n",
       "        -4.61263837e-01, -1.30370165e+00,  3.62520309e-01,\n",
       "         1.55258144e+00],\n",
       "       [-2.16736244e-01, -3.08422007e-01,  1.20896881e+00,\n",
       "         1.47890631e+00, -5.41155733e-01,  1.90740863e+00,\n",
       "         2.41516328e-02, -2.46863344e-01, -2.92312486e-01,\n",
       "         8.25149080e-01, -8.01831483e-01,  5.72186142e-01,\n",
       "        -2.31656457e-01, -7.65486974e-01,  1.08523093e+00,\n",
       "        -1.78211016e-01, -8.13722420e-01, -1.29117423e+00,\n",
       "        -2.83834092e-01,  5.33119032e-02, -6.84571035e-01,\n",
       "        -4.08010749e-02,  2.07601100e-01,  2.41043673e+00,\n",
       "        -6.76385315e-01, -6.02777070e-01,  1.51267519e-01,\n",
       "        -7.79425336e-01, -1.20260118e+00, -9.76085055e-02,\n",
       "        -9.36597238e-01, -1.45838866e+00, -7.54818829e-01,\n",
       "         4.55369459e-01, -1.39229701e-02, -3.75448846e-01,\n",
       "        -8.06303448e-01,  1.16930523e+00,  1.39923234e+00,\n",
       "         6.23437866e-02, -7.77835757e-01, -6.07284562e-01,\n",
       "        -2.08617162e-01, -7.53445929e-01, -8.15175395e-03,\n",
       "        -2.31729440e-01,  5.58226930e-02,  3.16371730e-01,\n",
       "        -6.07626788e-01,  2.24570794e+00,  2.15316086e-01,\n",
       "        -4.31221546e-01, -5.24972055e-01, -3.74623013e-01,\n",
       "        -3.66401209e-01,  1.06476460e+00, -7.20008722e-01,\n",
       "         1.18855959e-01, -3.53590320e-01,  8.21856292e-01,\n",
       "        -5.04900917e-01, -8.60262327e-01, -3.67462820e-01,\n",
       "         5.92411700e-01, -1.12665628e+00, -3.95648137e-01,\n",
       "        -1.40405220e+00, -3.99369641e-01,  3.19438670e-01,\n",
       "        -4.87012528e-02,  9.35349194e-01,  1.22681953e+00,\n",
       "         1.12967158e+00, -6.72788361e-01, -2.74609168e-01,\n",
       "        -4.23617870e-01,  3.25891390e-01, -7.05703562e-01,\n",
       "         1.88513717e-01,  1.65836876e+00, -9.88959664e-01,\n",
       "        -1.11608781e+00,  1.66207583e+00,  1.74612371e-01,\n",
       "        -1.09761187e-01, -8.82814547e-01, -7.07697614e-01,\n",
       "        -1.06689425e+00, -6.80993596e-01,  1.24595240e+00,\n",
       "        -4.30550844e-01, -6.15276627e-01, -1.74692457e-01,\n",
       "         6.77143937e-02,  2.33772165e-01, -4.54556738e-01,\n",
       "        -9.37610951e-01, -5.00048470e-02,  1.14248642e+00,\n",
       "        -6.85039251e-01, -6.92025611e-01,  3.54873829e-01,\n",
       "         3.93645332e+00, -6.02045073e-01, -8.73564722e-01,\n",
       "        -5.09824122e-01, -3.14519060e-01, -7.69256203e-01,\n",
       "         7.56373570e-01, -2.56906906e-01, -4.69122416e-02,\n",
       "        -1.14378310e+00,  6.51583477e-01,  1.69170213e+00,\n",
       "         1.02372680e-01, -4.54171483e-01, -1.70765325e-01,\n",
       "        -1.23174276e-01, -5.17936944e-01, -4.78251529e-01,\n",
       "        -5.31163054e-01, -3.36958453e-01,  1.05052236e+00,\n",
       "        -9.18630561e-01, -7.64202321e-01,  1.84788742e+00,\n",
       "        -1.01379352e+00, -1.00245754e-01, -1.28002245e+00,\n",
       "         5.46570839e-01, -5.98595026e-01, -6.82905064e-01,\n",
       "        -3.20841983e-01, -4.30212034e-01, -1.05879613e-01,\n",
       "        -4.83296740e-01,  2.00818407e+00, -3.85045957e-01,\n",
       "         1.26395027e+00,  1.66266073e-02, -2.33525492e-01,\n",
       "        -1.90449310e-01,  4.37618171e-01, -1.44913959e-01,\n",
       "        -2.88843028e-01,  2.22793542e+00, -1.25079909e+00,\n",
       "        -5.45758793e-01, -3.70761653e-01,  1.46533444e-01,\n",
       "        -7.88407511e-01, -3.22014456e-02,  7.34001240e-01,\n",
       "         1.49167519e+00, -2.88322326e-01, -3.76269697e-01,\n",
       "        -1.38096909e-01,  1.00101787e+00, -8.28030070e-01,\n",
       "         5.07213056e+00,  5.32491337e-01,  1.85999153e+00,\n",
       "         3.49447195e-01],\n",
       "       [ 1.98558878e-01, -4.19781516e-02,  2.69774169e-01,\n",
       "         3.17971472e-01, -1.30172521e-01,  3.56097212e-01,\n",
       "        -9.94718240e-02,  1.21547090e+00,  1.87588614e-01,\n",
       "        -3.81375990e-01, -2.07600175e-02, -7.49916428e-01,\n",
       "        -7.31618939e-02,  9.18934512e-03, -4.27617605e-01,\n",
       "        -6.09866374e-01, -3.70064428e-02,  1.80348461e-01,\n",
       "        -7.63936559e-02,  1.73212654e-01, -3.33939598e-02,\n",
       "        -6.20881510e-01,  2.25625541e-01, -1.59865409e+00,\n",
       "        -3.03475560e-01,  1.96099224e-01,  4.00870004e-01,\n",
       "        -1.34009199e-01, -5.94410012e-02,  1.07700782e+00,\n",
       "         3.70120837e-02, -5.31383247e-01,  2.15683609e-01,\n",
       "         1.88610977e-01, -7.96125308e-02,  1.68900629e-01,\n",
       "         2.76197827e-01,  4.60976057e-01,  1.29524912e-01,\n",
       "         3.58953783e-01, -6.42512747e-02, -1.03881758e-01,\n",
       "        -5.35416502e-01, -5.19858710e-01,  6.14715361e-01,\n",
       "         1.25980580e-01,  3.07895469e-01,  1.31778843e-01,\n",
       "         5.69148312e-02, -7.26001894e-01,  2.09739931e-01,\n",
       "        -5.51580256e-01, -2.88642790e-01,  4.02270796e-01,\n",
       "         1.19571755e+00, -1.57865888e-01,  5.39243708e-01,\n",
       "        -1.71909582e-02,  5.14186874e-01,  9.05140019e-02,\n",
       "         5.48750955e-01, -1.08902330e-01,  2.30710515e-01,\n",
       "         1.35922718e-01, -1.37119422e-01, -2.79190888e-01,\n",
       "        -1.82451526e+00, -7.16719677e-01,  2.83334568e-01,\n",
       "        -2.18496729e-01, -5.01595082e-02, -7.50353348e-02,\n",
       "         3.74734672e-01, -1.65425898e+00,  6.43635462e-01,\n",
       "         6.35493119e-01,  6.75789669e-02,  1.27742027e+00,\n",
       "         4.60681352e-01, -2.33161142e-01,  9.21176483e-02,\n",
       "        -1.07686176e-01, -1.48419224e+00,  1.02885273e-01,\n",
       "        -2.30824180e-01, -4.81964190e-01, -3.29666944e-02,\n",
       "        -9.65201104e-01,  1.58759382e-01, -3.24430926e-01,\n",
       "        -5.54783116e-01, -2.34635032e-01,  1.26402298e-01,\n",
       "        -4.42125227e-02, -4.43191705e-01,  7.54815987e-03,\n",
       "         3.59291175e-01, -1.75276809e+00,  4.58314756e-01,\n",
       "        -3.97130139e-01,  7.99567086e-02, -2.86192276e-01,\n",
       "         4.03197508e-03, -4.14668365e-02,  5.83607493e-02,\n",
       "         1.80781215e-02, -2.54184798e-01, -3.87302679e-01,\n",
       "        -1.58134404e-02, -2.31425009e-01,  8.06773276e-01,\n",
       "         6.23017659e-01,  1.19197550e+00, -6.09776242e-01,\n",
       "         1.13425750e-03,  2.67621394e-02,  1.39257112e-01,\n",
       "         2.85574193e-01,  5.63188299e-02, -2.21479323e-01,\n",
       "         3.23168657e-01, -2.74480420e-01, -4.06576630e-01,\n",
       "         2.33262205e-01,  5.24268745e-01, -3.55606557e-01,\n",
       "         3.18176804e-01, -1.15455660e-01, -8.14814476e-01,\n",
       "        -1.46133588e-01, -6.45398778e-01, -3.06688008e-01,\n",
       "         1.35371173e-01, -6.87523577e-01, -3.10333423e-01,\n",
       "         5.42800284e-01,  1.73383658e-01, -1.73288270e-01,\n",
       "         4.60252233e-01, -1.37310681e-01,  4.48637855e-01,\n",
       "         9.12753361e-02,  2.43025957e-01,  2.63099456e-01,\n",
       "        -2.56057799e-01,  1.23131773e+00, -1.25021515e-02,\n",
       "         3.67288521e-01,  4.76944005e-02,  2.23480684e-01,\n",
       "        -3.54180969e-01,  3.51946030e-01, -2.56305266e-01,\n",
       "        -1.68187300e+00,  7.14361580e-01,  2.58610239e+00,\n",
       "         2.17367211e-01, -6.17933447e-02, -7.01222609e-02,\n",
       "         4.52758576e-01, -2.72289407e-02,  4.95429860e-01,\n",
       "        -6.58014506e-02]])"
      ]
     },
     "execution_count": 335,
     "metadata": {},
     "output_type": "execute_result"
    }
   ],
   "source": [
    "pc"
   ]
  },
  {
   "cell_type": "markdown",
   "metadata": {},
   "source": [
    "## Outliers Removal"
   ]
  },
  {
   "cell_type": "code",
   "execution_count": 279,
   "metadata": {},
   "outputs": [
    {
     "data": {
      "image/png": "[encoded data removed]",
      "text/plain": [
       "<Figure size 432x288 with 1 Axes>"
      ]
     },
     "metadata": {
      "needs_background": "light"
     },
     "output_type": "display_data"
    }
   ],
   "source": [
    "\n",
    "## Let's perform Outlier Analysis\n",
    "#Let's do the outlier analysis before proceeding to clustering\n",
    "#We can reassign the outliers to the clusters later\n",
    "plt.boxplot(pcs_df2.PC1)\n",
    "Q1 = pcs_df2.PC1.quantile(0.05)\n",
    "Q3 = pcs_df2.PC1.quantile(0.95)\n",
    "IQR = Q3 - Q1\n",
    "pcs_df3 = pcs_df2[(pcs_df2.PC1 >= Q1) & (pcs_df2.PC1 <= Q3)]"
   ]
  },
  {
   "cell_type": "code",
   "execution_count": 280,
   "metadata": {},
   "outputs": [
    {
     "data": {
      "image/png": "[encoded data removed]",
      "text/plain": [
       "<Figure size 432x288 with 1 Axes>"
      ]
     },
     "metadata": {
      "needs_background": "light"
     },
     "output_type": "display_data"
    }
   ],
   "source": [
    "\n",
    "plt.boxplot(pcs_df2.PC2)\n",
    "Q1 = pcs_df2.PC2.quantile(0.05)\n",
    "Q3 = pcs_df2.PC2.quantile(0.95)\n",
    "IQR = Q3 - Q1\n",
    "pcs_df3 = pcs_df2[(pcs_df2.PC2 >= Q1) & (pcs_df2.PC2 <= Q3)]"
   ]
  },
  {
   "cell_type": "code",
   "execution_count": 281,
   "metadata": {},
   "outputs": [
    {
     "data": {
      "image/png": "[encoded data removed]",
      "text/plain": [
       "<Figure size 432x288 with 1 Axes>"
      ]
     },
     "metadata": {
      "needs_background": "light"
     },
     "output_type": "display_data"
    }
   ],
   "source": [
    "plt.boxplot(pcs_df2.PC3)\n",
    "Q1 = pcs_df2.PC3.quantile(0.05)\n",
    "Q3 = pcs_df2.PC3.quantile(0.95)\n",
    "IQR = Q3 - Q1\n",
    "pcs_df3 = pcs_df2[(pcs_df2.PC3 >= Q1) & (pcs_df2.PC3 <= Q3)]"
   ]
  },
  {
   "cell_type": "code",
   "execution_count": 282,
   "metadata": {},
   "outputs": [
    {
     "data": {
      "image/png": "[encoded data removed]",
      "text/plain": [
       "<Figure size 432x288 with 1 Axes>"
      ]
     },
     "metadata": {
      "needs_background": "light"
     },
     "output_type": "display_data"
    }
   ],
   "source": [
    "plt.boxplot(pcs_df2.PC4)\n",
    "Q1 = pcs_df2.PC4.quantile(0.05)\n",
    "Q3 = pcs_df2.PC4.quantile(0.95)\n",
    "IQR = Q3 - Q1\n",
    "pcs_df3 = pcs_df2[(pcs_df2.PC4 >= Q1) & (pcs_df2.PC4 <= Q3)]"
   ]
  },
  {
   "cell_type": "code",
   "execution_count": 342,
   "metadata": {},
   "outputs": [],
   "source": [
    "#checking relationship between pcs"
   ]
  },
  {
   "cell_type": "code",
   "execution_count": 283,
   "metadata": {},
   "outputs": [
    {
     "data": {
      "text/plain": [
       "<matplotlib.axes._subplots.AxesSubplot at 0x196174e8788>"
      ]
     },
     "execution_count": 283,
     "metadata": {},
     "output_type": "execute_result"
    },
    {
     "data": {
      "image/png": "[encoded data removed]",
      "text/plain": [
       "<Figure size 432x288 with 1 Axes>"
      ]
     },
     "metadata": {
      "needs_background": "light"
     },
     "output_type": "display_data"
    }
   ],
   "source": [
    "sns.scatterplot(x='PC1',y='PC2',data=pcs_df2)"
   ]
  },
  {
   "cell_type": "code",
   "execution_count": 284,
   "metadata": {},
   "outputs": [
    {
     "data": {
      "text/plain": [
       "<matplotlib.axes._subplots.AxesSubplot at 0x19617547488>"
      ]
     },
     "execution_count": 284,
     "metadata": {},
     "output_type": "execute_result"
    },
    {
     "data": {
      "image/png": "[encoded data removed]",
      "text/plain": [
       "<Figure size 432x288 with 1 Axes>"
      ]
     },
     "metadata": {
      "needs_background": "light"
     },
     "output_type": "display_data"
    }
   ],
   "source": [
    "sns.scatterplot(x='PC3',y='PC4',data=pcs_df2)"
   ]
  },
  {
   "cell_type": "code",
   "execution_count": 285,
   "metadata": {},
   "outputs": [
    {
     "data": {
      "text/plain": [
       "<matplotlib.axes._subplots.AxesSubplot at 0x196175a7508>"
      ]
     },
     "execution_count": 285,
     "metadata": {},
     "output_type": "execute_result"
    },
    {
     "data": {
      "image/png": "[encoded data removed]",
      "text/plain": [
       "<Figure size 432x288 with 1 Axes>"
      ]
     },
     "metadata": {
      "needs_background": "light"
     },
     "output_type": "display_data"
    }
   ],
   "source": [
    "sns.scatterplot(x='PC1',y='PC3',data=pcs_df2)"
   ]
  },
  {
   "cell_type": "code",
   "execution_count": 286,
   "metadata": {},
   "outputs": [
    {
     "data": {
      "text/plain": [
       "<matplotlib.axes._subplots.AxesSubplot at 0x1961821a6c8>"
      ]
     },
     "execution_count": 286,
     "metadata": {},
     "output_type": "execute_result"
    },
    {
     "data": {
      "image/png": "[encoded data removed]",
      "text/plain": [
       "<Figure size 432x288 with 1 Axes>"
      ]
     },
     "metadata": {
      "needs_background": "light"
     },
     "output_type": "display_data"
    }
   ],
   "source": [
    "sns.scatterplot(x='PC1',y='PC4',data=pcs_df2)"
   ]
  },
  {
   "cell_type": "code",
   "execution_count": 287,
   "metadata": {},
   "outputs": [
    {
     "data": {
      "text/plain": [
       "<matplotlib.axes._subplots.AxesSubplot at 0x19618279388>"
      ]
     },
     "execution_count": 287,
     "metadata": {},
     "output_type": "execute_result"
    },
    {
     "data": {
      "image/png": "[encoded data removed]",
      "text/plain": [
       "<Figure size 432x288 with 1 Axes>"
      ]
     },
     "metadata": {
      "needs_background": "light"
     },
     "output_type": "display_data"
    }
   ],
   "source": [
    "sns.scatterplot(x='PC2',y='PC3',data=pcs_df2)"
   ]
  },
  {
   "cell_type": "code",
   "execution_count": null,
   "metadata": {},
   "outputs": [],
   "source": []
  },
  {
   "cell_type": "markdown",
   "metadata": {},
   "source": [
    "# Clustering"
   ]
  },
  {
   "cell_type": "code",
   "execution_count": 288,
   "metadata": {},
   "outputs": [],
   "source": [
    "#Calculating the Hopkins statistic\n",
    "from sklearn.neighbors import NearestNeighbors\n",
    "from random import sample\n",
    "from numpy.random import uniform\n",
    "import numpy as np\n",
    "from math import isnan\n",
    " \n",
    "def hopkins(X):\n",
    "    d = X.shape[1]\n",
    "    #d = len(vars) # columns\n",
    "    n = len(X) # rows\n",
    "    m = int(0.1 * n) \n",
    "    nbrs = NearestNeighbors(n_neighbors=1).fit(X.values)\n",
    " \n",
    "    rand_X = sample(range(0, n, 1), m)\n",
    " \n",
    "    ujd = []\n",
    "    wjd = []\n",
    "    for j in range(0, m):\n",
    "        u_dist, _ = nbrs.kneighbors(uniform(np.amin(X,axis=0),np.amax(X,axis=0),d).reshape(1, -1), 2, return_distance=True)\n",
    "        ujd.append(u_dist[0][1])\n",
    "        w_dist, _ = nbrs.kneighbors(X.iloc[rand_X[j]].values.reshape(1, -1), 2, return_distance=True)\n",
    "        wjd.append(w_dist[0][1])\n",
    " \n",
    "    H = sum(ujd) / (sum(ujd) + sum(wjd))\n",
    "    if isnan(H):\n",
    "        print(ujd, wjd)\n",
    "        H = 0\n",
    " \n",
    "    return H"
   ]
  },
  {
   "cell_type": "code",
   "execution_count": 289,
   "metadata": {},
   "outputs": [
    {
     "data": {
      "text/html": [
       "<div>\n",
       "<style scoped>\n",
       "    .dataframe tbody tr th:only-of-type {\n",
       "        vertical-align: middle;\n",
       "    }\n",
       "\n",
       "    .dataframe tbody tr th {\n",
       "        vertical-align: top;\n",
       "    }\n",
       "\n",
       "    .dataframe thead th {\n",
       "        text-align: right;\n",
       "    }\n",
       "</style>\n",
       "<table border=\"1\" class=\"dataframe\">\n",
       "  <thead>\n",
       "    <tr style=\"text-align: right;\">\n",
       "      <th></th>\n",
       "      <th>PC1</th>\n",
       "      <th>PC2</th>\n",
       "      <th>PC3</th>\n",
       "      <th>PC4</th>\n",
       "    </tr>\n",
       "  </thead>\n",
       "  <tbody>\n",
       "    <tr>\n",
       "      <td>0</td>\n",
       "      <td>-2.811468</td>\n",
       "      <td>1.496008</td>\n",
       "      <td>-0.216736</td>\n",
       "      <td>0.198559</td>\n",
       "    </tr>\n",
       "    <tr>\n",
       "      <td>1</td>\n",
       "      <td>-0.114329</td>\n",
       "      <td>-1.559719</td>\n",
       "      <td>-0.308422</td>\n",
       "      <td>-0.041978</td>\n",
       "    </tr>\n",
       "    <tr>\n",
       "      <td>2</td>\n",
       "      <td>-0.609053</td>\n",
       "      <td>-0.880697</td>\n",
       "      <td>1.208969</td>\n",
       "      <td>0.269774</td>\n",
       "    </tr>\n",
       "    <tr>\n",
       "      <td>3</td>\n",
       "      <td>-2.882560</td>\n",
       "      <td>2.146956</td>\n",
       "      <td>1.478906</td>\n",
       "      <td>0.317971</td>\n",
       "    </tr>\n",
       "    <tr>\n",
       "      <td>4</td>\n",
       "      <td>0.855810</td>\n",
       "      <td>-0.929867</td>\n",
       "      <td>-0.541156</td>\n",
       "      <td>-0.130173</td>\n",
       "    </tr>\n",
       "    <tr>\n",
       "      <td>...</td>\n",
       "      <td>...</td>\n",
       "      <td>...</td>\n",
       "      <td>...</td>\n",
       "      <td>...</td>\n",
       "    </tr>\n",
       "    <tr>\n",
       "      <td>158</td>\n",
       "      <td>-1.263481</td>\n",
       "      <td>-0.291962</td>\n",
       "      <td>-0.828030</td>\n",
       "      <td>-0.070122</td>\n",
       "    </tr>\n",
       "    <tr>\n",
       "      <td>159</td>\n",
       "      <td>-0.561158</td>\n",
       "      <td>-0.461264</td>\n",
       "      <td>5.072131</td>\n",
       "      <td>0.452759</td>\n",
       "    </tr>\n",
       "    <tr>\n",
       "      <td>160</td>\n",
       "      <td>-0.784577</td>\n",
       "      <td>-1.303702</td>\n",
       "      <td>0.532491</td>\n",
       "      <td>-0.027229</td>\n",
       "    </tr>\n",
       "    <tr>\n",
       "      <td>161</td>\n",
       "      <td>-2.069503</td>\n",
       "      <td>0.362520</td>\n",
       "      <td>1.859992</td>\n",
       "      <td>0.495430</td>\n",
       "    </tr>\n",
       "    <tr>\n",
       "      <td>162</td>\n",
       "      <td>-2.827117</td>\n",
       "      <td>1.552581</td>\n",
       "      <td>0.349447</td>\n",
       "      <td>-0.065801</td>\n",
       "    </tr>\n",
       "  </tbody>\n",
       "</table>\n",
       "<p>163 rows × 4 columns</p>\n",
       "</div>"
      ],
      "text/plain": [
       "          PC1       PC2       PC3       PC4\n",
       "0   -2.811468  1.496008 -0.216736  0.198559\n",
       "1   -0.114329 -1.559719 -0.308422 -0.041978\n",
       "2   -0.609053 -0.880697  1.208969  0.269774\n",
       "3   -2.882560  2.146956  1.478906  0.317971\n",
       "4    0.855810 -0.929867 -0.541156 -0.130173\n",
       "..        ...       ...       ...       ...\n",
       "158 -1.263481 -0.291962 -0.828030 -0.070122\n",
       "159 -0.561158 -0.461264  5.072131  0.452759\n",
       "160 -0.784577 -1.303702  0.532491 -0.027229\n",
       "161 -2.069503  0.362520  1.859992  0.495430\n",
       "162 -2.827117  1.552581  0.349447 -0.065801\n",
       "\n",
       "[163 rows x 4 columns]"
      ]
     },
     "execution_count": 289,
     "metadata": {},
     "output_type": "execute_result"
    }
   ],
   "source": [
    "pcs_df2.drop(['country'],axis=1)"
   ]
  },
  {
   "cell_type": "code",
   "execution_count": 291,
   "metadata": {},
   "outputs": [
    {
     "data": {
      "text/plain": [
       "0.8880400580631179"
      ]
     },
     "execution_count": 291,
     "metadata": {},
     "output_type": "execute_result"
    }
   ],
   "source": [
    "hopkins(pcs_df2.drop(['country'],axis=1))"
   ]
  },
  {
   "cell_type": "code",
   "execution_count": 292,
   "metadata": {},
   "outputs": [],
   "source": [
    "# standardisation .\n",
    "df4 = pcs_df2\n",
    "dfs = standard_scaler.fit_transform(df4.drop(['country'],axis=1))"
   ]
  },
  {
   "cell_type": "markdown",
   "metadata": {},
   "source": [
    "## K-means clustering"
   ]
  },
  {
   "cell_type": "code",
   "execution_count": 293,
   "metadata": {},
   "outputs": [],
   "source": [
    "from sklearn.metrics import silhouette_score\n",
    "sse_ = []\n",
    "for k in range(2, 10):\n",
    "    kmeans = KMeans(n_clusters=k).fit(dfs)\n",
    "    sse_.append([k, silhouette_score(dfs, kmeans.labels_)])"
   ]
  },
  {
   "cell_type": "code",
   "execution_count": 294,
   "metadata": {},
   "outputs": [
    {
     "data": {
      "image/png": "[encoded data removed]",
      "text/plain": [
       "<Figure size 432x288 with 1 Axes>"
      ]
     },
     "metadata": {
      "needs_background": "light"
     },
     "output_type": "display_data"
    }
   ],
   "source": [
    "plt.plot(pd.DataFrame(sse_)[0], pd.DataFrame(sse_)[1]);"
   ]
  },
  {
   "cell_type": "code",
   "execution_count": 295,
   "metadata": {},
   "outputs": [
    {
     "name": "stdout",
     "output_type": "stream",
     "text": [
      "For n_clusters=2, the silhouette score is 0.3355273535919576\n",
      "For n_clusters=3, the silhouette score is 0.359788213305533\n",
      "For n_clusters=4, the silhouette score is 0.4057727905991972\n",
      "For n_clusters=5, the silhouette score is 0.38518572881472385\n",
      "For n_clusters=6, the silhouette score is 0.3712216446429899\n",
      "For n_clusters=7, the silhouette score is 0.34927186882725125\n",
      "For n_clusters=8, the silhouette score is 0.2558174780040077\n"
     ]
    }
   ],
   "source": [
    "range_n_clusters = [2, 3, 4, 5, 6, 7, 8]\n",
    "\n",
    "for num_clusters in range_n_clusters:\n",
    "    \n",
    "    # intialise kmeans\n",
    "    kmeans = KMeans(n_clusters=num_clusters, max_iter=50)\n",
    "    kmeans.fit(dfs)\n",
    "    \n",
    "    cluster_labels = kmeans.labels_\n",
    "    \n",
    "    # silhouette score\n",
    "    silhouette_avg = silhouette_score(dat3_1, cluster_labels)\n",
    "    print(\"For n_clusters={0}, the silhouette score is {1}\".format(num_clusters, silhouette_avg))"
   ]
  },
  {
   "cell_type": "code",
   "execution_count": 296,
   "metadata": {},
   "outputs": [
    {
     "data": {
      "text/plain": [
       "[<matplotlib.lines.Line2D at 0x196172e8b08>]"
      ]
     },
     "execution_count": 296,
     "metadata": {},
     "output_type": "execute_result"
    },
    {
     "data": {
      "image/png": "[encoded data removed]",
      "text/plain": [
       "<Figure size 432x288 with 1 Axes>"
      ]
     },
     "metadata": {
      "needs_background": "light"
     },
     "output_type": "display_data"
    }
   ],
   "source": [
    "#Let's use the elbow curve method to identify the ideal number of clusters.\n",
    "ssd = []\n",
    "for num_clusters in list(range(1,10)):\n",
    "    model_clus = KMeans(n_clusters = num_clusters, max_iter=50)\n",
    "    model_clus.fit(dfs)\n",
    "    ssd.append(model_clus.inertia_)\n",
    "\n",
    "plt.plot(ssd)"
   ]
  },
  {
   "cell_type": "code",
   "execution_count": 298,
   "metadata": {},
   "outputs": [
    {
     "data": {
      "image/png": "[encoded data removed]",
      "text/plain": [
       "<Figure size 432x288 with 1 Axes>"
      ]
     },
     "metadata": {
      "needs_background": "light"
     },
     "output_type": "display_data"
    }
   ],
   "source": [
    "# complete linkage\n",
    "mergings = linkage(dfs, method=\"complete\", metric='euclidean')\n",
    "dendrogram(mergings)\n",
    "plt.show()"
   ]
  },
  {
   "cell_type": "code",
   "execution_count": 299,
   "metadata": {},
   "outputs": [
    {
     "data": {
      "text/plain": [
       "KMeans(algorithm='auto', copy_x=True, init='k-means++', max_iter=50,\n",
       "       n_clusters=5, n_init=10, n_jobs=None, precompute_distances='auto',\n",
       "       random_state=None, tol=0.0001, verbose=0)"
      ]
     },
     "execution_count": 299,
     "metadata": {},
     "output_type": "execute_result"
    }
   ],
   "source": [
    "#Let's perform K means using K=3\n",
    "model_clus5 = KMeans(n_clusters = 5, max_iter=50)\n",
    "model_clus5.fit(dfs)"
   ]
  },
  {
   "cell_type": "markdown",
   "metadata": {},
   "source": [
    "# Cluster Preparation"
   ]
  },
  {
   "cell_type": "code",
   "execution_count": 300,
   "metadata": {},
   "outputs": [
    {
     "data": {
      "text/html": [
       "<div>\n",
       "<style scoped>\n",
       "    .dataframe tbody tr th:only-of-type {\n",
       "        vertical-align: middle;\n",
       "    }\n",
       "\n",
       "    .dataframe tbody tr th {\n",
       "        vertical-align: top;\n",
       "    }\n",
       "\n",
       "    .dataframe thead th {\n",
       "        text-align: right;\n",
       "    }\n",
       "</style>\n",
       "<table border=\"1\" class=\"dataframe\">\n",
       "  <thead>\n",
       "    <tr style=\"text-align: right;\">\n",
       "      <th></th>\n",
       "      <th>country</th>\n",
       "      <th>PC1</th>\n",
       "      <th>PC2</th>\n",
       "      <th>PC3</th>\n",
       "      <th>PC4</th>\n",
       "      <th>ClusterID</th>\n",
       "    </tr>\n",
       "  </thead>\n",
       "  <tbody>\n",
       "    <tr>\n",
       "      <td>0</td>\n",
       "      <td>Afghanistan</td>\n",
       "      <td>-2.811468</td>\n",
       "      <td>1.496008</td>\n",
       "      <td>-0.216736</td>\n",
       "      <td>0.198559</td>\n",
       "      <td>1</td>\n",
       "    </tr>\n",
       "    <tr>\n",
       "      <td>1</td>\n",
       "      <td>Albania</td>\n",
       "      <td>-0.114329</td>\n",
       "      <td>-1.559719</td>\n",
       "      <td>-0.308422</td>\n",
       "      <td>-0.041978</td>\n",
       "      <td>0</td>\n",
       "    </tr>\n",
       "    <tr>\n",
       "      <td>2</td>\n",
       "      <td>Algeria</td>\n",
       "      <td>-0.609053</td>\n",
       "      <td>-0.880697</td>\n",
       "      <td>1.208969</td>\n",
       "      <td>0.269774</td>\n",
       "      <td>2</td>\n",
       "    </tr>\n",
       "    <tr>\n",
       "      <td>3</td>\n",
       "      <td>Angola</td>\n",
       "      <td>-2.882560</td>\n",
       "      <td>2.146956</td>\n",
       "      <td>1.478906</td>\n",
       "      <td>0.317971</td>\n",
       "      <td>2</td>\n",
       "    </tr>\n",
       "    <tr>\n",
       "      <td>4</td>\n",
       "      <td>Antigua and Barbuda</td>\n",
       "      <td>0.855810</td>\n",
       "      <td>-0.929867</td>\n",
       "      <td>-0.541156</td>\n",
       "      <td>-0.130173</td>\n",
       "      <td>0</td>\n",
       "    </tr>\n",
       "  </tbody>\n",
       "</table>\n",
       "</div>"
      ],
      "text/plain": [
       "               country       PC1       PC2       PC3       PC4  ClusterID\n",
       "0          Afghanistan -2.811468  1.496008 -0.216736  0.198559          1\n",
       "1              Albania -0.114329 -1.559719 -0.308422 -0.041978          0\n",
       "2              Algeria -0.609053 -0.880697  1.208969  0.269774          2\n",
       "3               Angola -2.882560  2.146956  1.478906  0.317971          2\n",
       "4  Antigua and Barbuda  0.855810 -0.929867 -0.541156 -0.130173          0"
      ]
     },
     "execution_count": 300,
     "metadata": {},
     "output_type": "execute_result"
    }
   ],
   "source": [
    "dfs1= df4\n",
    "\n",
    "dfs1.index = pd.RangeIndex(len(dfs1.index))\n",
    "dat_km = pd.concat([dfs1, pd.Series(model_clus5.labels_)], axis=1)\n",
    "dat_km.columns = ['country', 'PC1', 'PC2','PC3','PC4','ClusterID']\n",
    "dat_km.head()"
   ]
  },
  {
   "cell_type": "code",
   "execution_count": 301,
   "metadata": {},
   "outputs": [
    {
     "data": {
      "text/plain": [
       "0    79\n",
       "1    35\n",
       "2    24\n",
       "3    19\n",
       "4     6\n",
       "Name: ClusterID, dtype: int64"
      ]
     },
     "execution_count": 301,
     "metadata": {},
     "output_type": "execute_result"
    }
   ],
   "source": [
    "dat_km['ClusterID'].value_counts()"
   ]
  },
  {
   "cell_type": "markdown",
   "metadata": {},
   "source": [
    "# cluster analysis visualizations"
   ]
  },
  {
   "cell_type": "code",
   "execution_count": 343,
   "metadata": {},
   "outputs": [
    {
     "data": {
      "text/plain": [
       "<matplotlib.axes._subplots.AxesSubplot at 0x19619310dc8>"
      ]
     },
     "execution_count": 343,
     "metadata": {},
     "output_type": "execute_result"
    },
    {
     "data": {
      "image/png": "[encoded data removed]",
      "text/plain": [
       "<Figure size 432x288 with 1 Axes>"
      ]
     },
     "metadata": {
      "needs_background": "light"
     },
     "output_type": "display_data"
    }
   ],
   "source": [
    "#relationship between clusters' pcs\n",
    "sns.scatterplot(x='PC1',y='PC2',hue='ClusterID',legend='full',data=dat_km)"
   ]
  },
  {
   "cell_type": "code",
   "execution_count": 304,
   "metadata": {},
   "outputs": [
    {
     "data": {
      "text/plain": [
       "<matplotlib.axes._subplots.AxesSubplot at 0x19615e131c8>"
      ]
     },
     "execution_count": 304,
     "metadata": {},
     "output_type": "execute_result"
    },
    {
     "data": {
      "image/png": "[encoded data removed]",
      "text/plain": [
       "<Figure size 432x288 with 1 Axes>"
      ]
     },
     "metadata": {
      "needs_background": "light"
     },
     "output_type": "display_data"
    }
   ],
   "source": [
    "sns.scatterplot(x='PC2',y='PC3',hue='ClusterID',data=dat_km)"
   ]
  },
  {
   "cell_type": "code",
   "execution_count": 305,
   "metadata": {},
   "outputs": [
    {
     "data": {
      "text/plain": [
       "<matplotlib.axes._subplots.AxesSubplot at 0x19615e8f508>"
      ]
     },
     "execution_count": 305,
     "metadata": {},
     "output_type": "execute_result"
    },
    {
     "data": {
      "image/png": "[encoded data removed]",
      "text/plain": [
       "<Figure size 432x288 with 1 Axes>"
      ]
     },
     "metadata": {
      "needs_background": "light"
     },
     "output_type": "display_data"
    }
   ],
   "source": [
    "sns.scatterplot(x='PC3',y='PC1',hue='ClusterID',data=dat_km)"
   ]
  },
  {
   "cell_type": "code",
   "execution_count": 336,
   "metadata": {},
   "outputs": [
    {
     "data": {
      "text/plain": [
       "<matplotlib.axes._subplots.AxesSubplot at 0x19617277448>"
      ]
     },
     "execution_count": 336,
     "metadata": {},
     "output_type": "execute_result"
    },
    {
     "data": {
      "image/png": "[encoded data removed]",
      "text/plain": [
       "<Figure size 432x288 with 1 Axes>"
      ]
     },
     "metadata": {
      "needs_background": "light"
     },
     "output_type": "display_data"
    }
   ],
   "source": [
    "sns.scatterplot(x='PC4',y='PC1',hue='ClusterID',data=dat_km)"
   ]
  },
  {
   "cell_type": "code",
   "execution_count": 345,
   "metadata": {},
   "outputs": [
    {
     "data": {
      "text/html": [
       "<div>\n",
       "<style scoped>\n",
       "    .dataframe tbody tr th:only-of-type {\n",
       "        vertical-align: middle;\n",
       "    }\n",
       "\n",
       "    .dataframe tbody tr th {\n",
       "        vertical-align: top;\n",
       "    }\n",
       "\n",
       "    .dataframe thead th {\n",
       "        text-align: right;\n",
       "    }\n",
       "</style>\n",
       "<table border=\"1\" class=\"dataframe\">\n",
       "  <thead>\n",
       "    <tr style=\"text-align: right;\">\n",
       "      <th></th>\n",
       "      <th>country_x</th>\n",
       "      <th>child_mort</th>\n",
       "      <th>exports</th>\n",
       "      <th>health</th>\n",
       "      <th>imports</th>\n",
       "      <th>income</th>\n",
       "      <th>inflation</th>\n",
       "      <th>life_expec</th>\n",
       "      <th>total_fer</th>\n",
       "      <th>gdpp</th>\n",
       "      <th>country_y</th>\n",
       "      <th>PC1</th>\n",
       "      <th>PC2</th>\n",
       "      <th>PC3</th>\n",
       "      <th>PC4</th>\n",
       "      <th>ClusterID</th>\n",
       "    </tr>\n",
       "  </thead>\n",
       "  <tbody>\n",
       "    <tr>\n",
       "      <td>0</td>\n",
       "      <td>Afghanistan</td>\n",
       "      <td>90.2</td>\n",
       "      <td>55.30</td>\n",
       "      <td>41.9174</td>\n",
       "      <td>248.297</td>\n",
       "      <td>1610</td>\n",
       "      <td>9.44</td>\n",
       "      <td>56.2</td>\n",
       "      <td>5.82</td>\n",
       "      <td>553</td>\n",
       "      <td>Afghanistan</td>\n",
       "      <td>-2.811468</td>\n",
       "      <td>1.496008</td>\n",
       "      <td>-0.216736</td>\n",
       "      <td>0.198559</td>\n",
       "      <td>1</td>\n",
       "    </tr>\n",
       "    <tr>\n",
       "      <td>1</td>\n",
       "      <td>Albania</td>\n",
       "      <td>16.6</td>\n",
       "      <td>1145.20</td>\n",
       "      <td>267.8950</td>\n",
       "      <td>1987.740</td>\n",
       "      <td>9930</td>\n",
       "      <td>4.49</td>\n",
       "      <td>76.3</td>\n",
       "      <td>1.65</td>\n",
       "      <td>4090</td>\n",
       "      <td>Albania</td>\n",
       "      <td>-0.114329</td>\n",
       "      <td>-1.559719</td>\n",
       "      <td>-0.308422</td>\n",
       "      <td>-0.041978</td>\n",
       "      <td>0</td>\n",
       "    </tr>\n",
       "    <tr>\n",
       "      <td>2</td>\n",
       "      <td>Algeria</td>\n",
       "      <td>27.3</td>\n",
       "      <td>1712.64</td>\n",
       "      <td>185.9820</td>\n",
       "      <td>1400.440</td>\n",
       "      <td>12900</td>\n",
       "      <td>16.10</td>\n",
       "      <td>76.5</td>\n",
       "      <td>2.89</td>\n",
       "      <td>4460</td>\n",
       "      <td>Algeria</td>\n",
       "      <td>-0.609053</td>\n",
       "      <td>-0.880697</td>\n",
       "      <td>1.208969</td>\n",
       "      <td>0.269774</td>\n",
       "      <td>2</td>\n",
       "    </tr>\n",
       "    <tr>\n",
       "      <td>3</td>\n",
       "      <td>Angola</td>\n",
       "      <td>119.0</td>\n",
       "      <td>2199.19</td>\n",
       "      <td>100.6050</td>\n",
       "      <td>1514.370</td>\n",
       "      <td>5900</td>\n",
       "      <td>22.40</td>\n",
       "      <td>60.1</td>\n",
       "      <td>6.16</td>\n",
       "      <td>3530</td>\n",
       "      <td>Angola</td>\n",
       "      <td>-2.882560</td>\n",
       "      <td>2.146956</td>\n",
       "      <td>1.478906</td>\n",
       "      <td>0.317971</td>\n",
       "      <td>2</td>\n",
       "    </tr>\n",
       "    <tr>\n",
       "      <td>4</td>\n",
       "      <td>Antigua and Barbuda</td>\n",
       "      <td>10.3</td>\n",
       "      <td>5551.00</td>\n",
       "      <td>735.6600</td>\n",
       "      <td>7185.800</td>\n",
       "      <td>19100</td>\n",
       "      <td>1.44</td>\n",
       "      <td>76.8</td>\n",
       "      <td>2.13</td>\n",
       "      <td>12200</td>\n",
       "      <td>Antigua and Barbuda</td>\n",
       "      <td>0.855810</td>\n",
       "      <td>-0.929867</td>\n",
       "      <td>-0.541156</td>\n",
       "      <td>-0.130173</td>\n",
       "      <td>0</td>\n",
       "    </tr>\n",
       "  </tbody>\n",
       "</table>\n",
       "</div>"
      ],
      "text/plain": [
       "             country_x  child_mort  exports    health   imports  income  \\\n",
       "0          Afghanistan        90.2    55.30   41.9174   248.297    1610   \n",
       "1              Albania        16.6  1145.20  267.8950  1987.740    9930   \n",
       "2              Algeria        27.3  1712.64  185.9820  1400.440   12900   \n",
       "3               Angola       119.0  2199.19  100.6050  1514.370    5900   \n",
       "4  Antigua and Barbuda        10.3  5551.00  735.6600  7185.800   19100   \n",
       "\n",
       "   inflation  life_expec  total_fer   gdpp            country_y       PC1  \\\n",
       "0       9.44        56.2       5.82    553          Afghanistan -2.811468   \n",
       "1       4.49        76.3       1.65   4090              Albania -0.114329   \n",
       "2      16.10        76.5       2.89   4460              Algeria -0.609053   \n",
       "3      22.40        60.1       6.16   3530               Angola -2.882560   \n",
       "4       1.44        76.8       2.13  12200  Antigua and Barbuda  0.855810   \n",
       "\n",
       "        PC2       PC3       PC4  ClusterID  \n",
       "0  1.496008 -0.216736  0.198559          1  \n",
       "1 -1.559719 -0.308422 -0.041978          0  \n",
       "2 -0.880697  1.208969  0.269774          2  \n",
       "3  2.146956  1.478906  0.317971          2  \n",
       "4 -0.929867 -0.541156 -0.130173          0  "
      ]
     },
     "execution_count": 345,
     "metadata": {},
     "output_type": "execute_result"
    }
   ],
   "source": [
    "#merging data sets\n",
    "dfnew=pd.merge(df,dat_km, left_index=True,right_index=True)\n",
    "dfnew.head()\n"
   ]
  },
  {
   "cell_type": "code",
   "execution_count": 338,
   "metadata": {},
   "outputs": [
    {
     "data": {
      "text/plain": [
       "<matplotlib.axes._subplots.AxesSubplot at 0x19617fbdfc8>"
      ]
     },
     "execution_count": 338,
     "metadata": {},
     "output_type": "execute_result"
    },
    {
     "data": {
      "image/png": "[encoded data removed]",
      "text/plain": [
       "<Figure size 432x288 with 1 Axes>"
      ]
     },
     "metadata": {
      "needs_background": "light"
     },
     "output_type": "display_data"
    }
   ],
   "source": [
    "#checking clusters and important variable relationship variables\n",
    "sns.scatterplot(x='child_mort',y='income',hue='ClusterID',data=dfnew)"
   ]
  },
  {
   "cell_type": "code",
   "execution_count": 340,
   "metadata": {},
   "outputs": [
    {
     "data": {
      "text/plain": [
       "<matplotlib.axes._subplots.AxesSubplot at 0x196193244c8>"
      ]
     },
     "execution_count": 340,
     "metadata": {},
     "output_type": "execute_result"
    },
    {
     "data": {
      "image/png": "[encoded data removed]",
      "text/plain": [
       "<Figure size 432x288 with 1 Axes>"
      ]
     },
     "metadata": {
      "needs_background": "light"
     },
     "output_type": "display_data"
    }
   ],
   "source": [
    "sns.scatterplot(x='gdpp',y='income',hue='ClusterID',data=dfnew)"
   ]
  },
  {
   "cell_type": "code",
   "execution_count": 341,
   "metadata": {},
   "outputs": [
    {
     "data": {
      "text/plain": [
       "<matplotlib.axes._subplots.AxesSubplot at 0x196193984c8>"
      ]
     },
     "execution_count": 341,
     "metadata": {},
     "output_type": "execute_result"
    },
    {
     "data": {
      "image/png": "[encoded data removed]",
      "text/plain": [
       "<Figure size 432x288 with 1 Axes>"
      ]
     },
     "metadata": {
      "needs_background": "light"
     },
     "output_type": "display_data"
    }
   ],
   "source": [
    "sns.scatterplot(x='child_mort',y='health',hue='ClusterID',data=dfnew)"
   ]
  },
  {
   "cell_type": "code",
   "execution_count": 309,
   "metadata": {},
   "outputs": [
    {
     "data": {
      "text/plain": [
       "<matplotlib.axes._subplots.AxesSubplot at 0x196178f4408>"
      ]
     },
     "execution_count": 309,
     "metadata": {},
     "output_type": "execute_result"
    },
    {
     "data": {
      "image/png": "[encoded data removed]",
      "text/plain": [
       "<Figure size 432x288 with 1 Axes>"
      ]
     },
     "metadata": {
      "needs_background": "light"
     },
     "output_type": "display_data"
    }
   ],
   "source": [
    "# plot\n",
    "sns.boxplot(x='ClusterID', y='exports', data=dfnew)"
   ]
  },
  {
   "cell_type": "code",
   "execution_count": 310,
   "metadata": {},
   "outputs": [
    {
     "data": {
      "text/plain": [
       "<matplotlib.axes._subplots.AxesSubplot at 0x1961799af88>"
      ]
     },
     "execution_count": 310,
     "metadata": {},
     "output_type": "execute_result"
    },
    {
     "data": {
      "image/png": "[encoded data removed]",
      "text/plain": [
       "<Figure size 432x288 with 1 Axes>"
      ]
     },
     "metadata": {
      "needs_background": "light"
     },
     "output_type": "display_data"
    }
   ],
   "source": [
    "sns.boxplot(x='ClusterID', y='gdpp', data=dfnew)"
   ]
  },
  {
   "cell_type": "code",
   "execution_count": 311,
   "metadata": {},
   "outputs": [
    {
     "data": {
      "text/plain": [
       "<matplotlib.axes._subplots.AxesSubplot at 0x1961791e348>"
      ]
     },
     "execution_count": 311,
     "metadata": {},
     "output_type": "execute_result"
    },
    {
     "data": {
      "image/png": "[encoded data removed]",
      "text/plain": [
       "<Figure size 432x288 with 1 Axes>"
      ]
     },
     "metadata": {
      "needs_background": "light"
     },
     "output_type": "display_data"
    }
   ],
   "source": [
    "sns.boxplot(x='ClusterID', y='income', data=dfnew)"
   ]
  },
  {
   "cell_type": "code",
   "execution_count": 312,
   "metadata": {},
   "outputs": [
    {
     "data": {
      "text/plain": [
       "<matplotlib.axes._subplots.AxesSubplot at 0x196179d0c08>"
      ]
     },
     "execution_count": 312,
     "metadata": {},
     "output_type": "execute_result"
    },
    {
     "data": {
      "image/png": "[encoded data removed]",
      "text/plain": [
       "<Figure size 432x288 with 1 Axes>"
      ]
     },
     "metadata": {
      "needs_background": "light"
     },
     "output_type": "display_data"
    }
   ],
   "source": [
    "sns.boxplot(x='ClusterID', y='imports', data=dfnew)"
   ]
  },
  {
   "cell_type": "code",
   "execution_count": 313,
   "metadata": {},
   "outputs": [
    {
     "data": {
      "text/plain": [
       "<matplotlib.axes._subplots.AxesSubplot at 0x19617a51608>"
      ]
     },
     "execution_count": 313,
     "metadata": {},
     "output_type": "execute_result"
    },
    {
     "data": {
      "image/png": "[encoded data removed]",
      "text/plain": [
       "<Figure size 432x288 with 1 Axes>"
      ]
     },
     "metadata": {
      "needs_background": "light"
     },
     "output_type": "display_data"
    }
   ],
   "source": [
    "sns.boxplot(x='ClusterID', y='child_mort', data=dfnew)"
   ]
  },
  {
   "cell_type": "code",
   "execution_count": 314,
   "metadata": {},
   "outputs": [
    {
     "data": {
      "text/plain": [
       "<matplotlib.axes._subplots.AxesSubplot at 0x19617c31748>"
      ]
     },
     "execution_count": 314,
     "metadata": {},
     "output_type": "execute_result"
    },
    {
     "data": {
      "image/png": "[encoded data removed]",
      "text/plain": [
       "<Figure size 432x288 with 1 Axes>"
      ]
     },
     "metadata": {
      "needs_background": "light"
     },
     "output_type": "display_data"
    }
   ],
   "source": [
    "sns.boxplot(x='ClusterID', y='health', data=dfnew)"
   ]
  },
  {
   "cell_type": "markdown",
   "metadata": {},
   "source": [
    "## hierarchial clustering"
   ]
  },
  {
   "cell_type": "code",
   "execution_count": 315,
   "metadata": {},
   "outputs": [
    {
     "data": {
      "image/png": "[encoded data removed]",
      "text/plain": [
       "<Figure size 432x288 with 1 Axes>"
      ]
     },
     "metadata": {
      "needs_background": "light"
     },
     "output_type": "display_data"
    }
   ],
   "source": [
    "#Let's try hierarchical clustering to see if it works well\n",
    "#First we'll try the single linkage procedure.\n",
    "mergings = linkage(dat3_1, method = \"single\", metric='euclidean')\n",
    "dendrogram(mergings)\n",
    "plt.show()"
   ]
  },
  {
   "cell_type": "code",
   "execution_count": 316,
   "metadata": {},
   "outputs": [
    {
     "data": {
      "image/png": "[encoded data removed]",
      "text/plain": [
       "<Figure size 432x288 with 1 Axes>"
      ]
     },
     "metadata": {
      "needs_background": "light"
     },
     "output_type": "display_data"
    }
   ],
   "source": [
    "#We don't get good results here.\n",
    "#Let's try complete linkage method\n",
    "mergings = linkage(dat3_1, method = \"complete\", metric='euclidean')\n",
    "dendrogram(mergings)\n",
    "plt.show()"
   ]
  },
  {
   "cell_type": "code",
   "execution_count": 318,
   "metadata": {},
   "outputs": [
    {
     "data": {
      "text/plain": [
       "1                  Albania\n",
       "4      Antigua and Barbuda\n",
       "6                  Armenia\n",
       "9               Azerbaijan\n",
       "10                 Bahamas\n",
       "              ...         \n",
       "150                   Togo\n",
       "152                Tunisia\n",
       "156                Ukraine\n",
       "158         United Kingdom\n",
       "160                Uruguay\n",
       "Name: country_x, Length: 79, dtype: object"
      ]
     },
     "execution_count": 318,
     "metadata": {},
     "output_type": "execute_result"
    }
   ],
   "source": [
    "dfnew[dfnew['ClusterID']==0]['country_x']"
   ]
  },
  {
   "cell_type": "code",
   "execution_count": 123,
   "metadata": {},
   "outputs": [
    {
     "data": {
      "text/plain": [
       "1                  Albania\n",
       "4      Antigua and Barbuda\n",
       "6                  Armenia\n",
       "12              Bangladesh\n",
       "13                Barbados\n",
       "              ...         \n",
       "150                   Togo\n",
       "152                Tunisia\n",
       "156                Ukraine\n",
       "158         United Kingdom\n",
       "160                Uruguay\n",
       "Name: country_x, Length: 67, dtype: object"
      ]
     },
     "execution_count": 123,
     "metadata": {},
     "output_type": "execute_result"
    }
   ],
   "source": [
    "dfnew[dfnew['ClusterID']==1]['country_x']"
   ]
  },
  {
   "cell_type": "code",
   "execution_count": 319,
   "metadata": {},
   "outputs": [
    {
     "data": {
      "text/plain": [
       "2                   Algeria\n",
       "3                    Angola\n",
       "5                 Argentina\n",
       "37         Congo, Dem. Rep.\n",
       "38              Congo, Rep.\n",
       "49        Equatorial Guinea\n",
       "55                    Gabon\n",
       "59                    Ghana\n",
       "70                Indonesia\n",
       "71                     Iran\n",
       "72                     Iraq\n",
       "79               Kazakhstan\n",
       "89                    Libya\n",
       "98                    Malta\n",
       "102                 Moldova\n",
       "108                 Namibia\n",
       "113                 Nigeria\n",
       "125                  Russia\n",
       "136         Solomon Islands\n",
       "138             South Korea\n",
       "145             Switzerland\n",
       "157    United Arab Emirates\n",
       "159           United States\n",
       "161              Uzbekistan\n",
       "Name: country_x, dtype: object"
      ]
     },
     "execution_count": 319,
     "metadata": {},
     "output_type": "execute_result"
    }
   ],
   "source": [
    "dfnew[dfnew['ClusterID']==2]['country_x']"
   ]
  },
  {
   "cell_type": "code",
   "execution_count": 320,
   "metadata": {},
   "outputs": [
    {
     "data": {
      "text/plain": [
       "7                           Australia\n",
       "8                             Austria\n",
       "29                             Canada\n",
       "44                            Denmark\n",
       "53                            Finland\n",
       "54                             France\n",
       "58                            Germany\n",
       "68                            Iceland\n",
       "74                             Israel\n",
       "75                              Italy\n",
       "77                              Japan\n",
       "109                             Nepal\n",
       "110                       Netherlands\n",
       "112                             Niger\n",
       "135                          Slovenia\n",
       "140                         Sri Lanka\n",
       "141    St. Vincent and the Grenadines\n",
       "154                      Turkmenistan\n",
       "155                            Uganda\n",
       "Name: country_x, dtype: object"
      ]
     },
     "execution_count": 320,
     "metadata": {},
     "output_type": "execute_result"
    }
   ],
   "source": [
    "dfnew[dfnew['ClusterID']==3]['country_x']"
   ]
  },
  {
   "cell_type": "code",
   "execution_count": 126,
   "metadata": {},
   "outputs": [
    {
     "data": {
      "text/plain": [
       "2                   Algeria\n",
       "3                    Angola\n",
       "5                 Argentina\n",
       "9                Azerbaijan\n",
       "14                  Belarus\n",
       "23                   Brunei\n",
       "38              Congo, Rep.\n",
       "49        Equatorial Guinea\n",
       "55                    Gabon\n",
       "59                    Ghana\n",
       "70                Indonesia\n",
       "71                     Iran\n",
       "72                     Iraq\n",
       "79               Kazakhstan\n",
       "82                   Kuwait\n",
       "89                    Libya\n",
       "98                    Malta\n",
       "102                 Moldova\n",
       "108                 Namibia\n",
       "113                 Nigeria\n",
       "122                Portugal\n",
       "125                  Russia\n",
       "136         Solomon Islands\n",
       "138             South Korea\n",
       "145             Switzerland\n",
       "153                  Turkey\n",
       "157    United Arab Emirates\n",
       "159           United States\n",
       "161              Uzbekistan\n",
       "Name: country_x, dtype: object"
      ]
     },
     "execution_count": 126,
     "metadata": {},
     "output_type": "execute_result"
    }
   ],
   "source": [
    "dfnew[dfnew['ClusterID']==4]['country_x']"
   ]
  },
  {
   "cell_type": "code",
   "execution_count": 346,
   "metadata": {},
   "outputs": [],
   "source": [
    "#calculating median for setting limits\n",
    "clu_gdpp = pd.DataFrame(dfnew.groupby([\"ClusterID\"]).gdpp.median())\n",
    "clu_child_mort=pd.DataFrame(dfnew.groupby([\"ClusterID\"]).child_mort.median())\n",
    "clu_income =pd.DataFrame(dfnew.groupby([\"ClusterID\"]).income.median())"
   ]
  },
  {
   "cell_type": "code",
   "execution_count": 322,
   "metadata": {},
   "outputs": [
    {
     "data": {
      "text/html": [
       "<div>\n",
       "<style scoped>\n",
       "    .dataframe tbody tr th:only-of-type {\n",
       "        vertical-align: middle;\n",
       "    }\n",
       "\n",
       "    .dataframe tbody tr th {\n",
       "        vertical-align: top;\n",
       "    }\n",
       "\n",
       "    .dataframe thead th {\n",
       "        text-align: right;\n",
       "    }\n",
       "</style>\n",
       "<table border=\"1\" class=\"dataframe\">\n",
       "  <thead>\n",
       "    <tr style=\"text-align: right;\">\n",
       "      <th></th>\n",
       "      <th>ClusterID</th>\n",
       "      <th>GDPP</th>\n",
       "      <th>child_mort</th>\n",
       "      <th>income</th>\n",
       "    </tr>\n",
       "  </thead>\n",
       "  <tbody>\n",
       "    <tr>\n",
       "      <td>0</td>\n",
       "      <td>0</td>\n",
       "      <td>5410</td>\n",
       "      <td>16.60</td>\n",
       "      <td>11100</td>\n",
       "    </tr>\n",
       "    <tr>\n",
       "      <td>1</td>\n",
       "      <td>1</td>\n",
       "      <td>988</td>\n",
       "      <td>64.40</td>\n",
       "      <td>2180</td>\n",
       "    </tr>\n",
       "    <tr>\n",
       "      <td>2</td>\n",
       "      <td>2</td>\n",
       "      <td>5860</td>\n",
       "      <td>27.70</td>\n",
       "      <td>14150</td>\n",
       "    </tr>\n",
       "    <tr>\n",
       "      <td>3</td>\n",
       "      <td>3</td>\n",
       "      <td>40600</td>\n",
       "      <td>4.50</td>\n",
       "      <td>36200</td>\n",
       "    </tr>\n",
       "    <tr>\n",
       "      <td>4</td>\n",
       "      <td>4</td>\n",
       "      <td>36900</td>\n",
       "      <td>10.65</td>\n",
       "      <td>43400</td>\n",
       "    </tr>\n",
       "  </tbody>\n",
       "</table>\n",
       "</div>"
      ],
      "text/plain": [
       "   ClusterID   GDPP  child_mort  income\n",
       "0          0   5410       16.60   11100\n",
       "1          1    988       64.40    2180\n",
       "2          2   5860       27.70   14150\n",
       "3          3  40600        4.50   36200\n",
       "4          4  36900       10.65   43400"
      ]
     },
     "execution_count": 322,
     "metadata": {},
     "output_type": "execute_result"
    }
   ],
   "source": [
    "dfa = pd.concat([pd.Series([0,1,2,3,4]),clu_gdpp,clu_child_mort,clu_income], axis=1)\n",
    "dfa.columns = [\"ClusterID\",\"GDPP\",\"child_mort\",\"income\"]\n",
    "dfa"
   ]
  },
  {
   "cell_type": "code",
   "execution_count": null,
   "metadata": {},
   "outputs": [],
   "source": []
  },
  {
   "cell_type": "code",
   "execution_count": 323,
   "metadata": {},
   "outputs": [
    {
     "data": {
      "text/plain": [
       "<matplotlib.axes._subplots.AxesSubplot at 0x19615540a88>"
      ]
     },
     "execution_count": 323,
     "metadata": {},
     "output_type": "execute_result"
    },
    {
     "data": {
      "image/png": "[encoded data removed]",
      "text/plain": [
       "<Figure size 432x288 with 1 Axes>"
      ]
     },
     "metadata": {
      "needs_background": "light"
     },
     "output_type": "display_data"
    }
   ],
   "source": [
    "sns.boxplot(x='ClusterID', y='gdpp', data=dfnew)"
   ]
  },
  {
   "cell_type": "code",
   "execution_count": 324,
   "metadata": {},
   "outputs": [
    {
     "data": {
      "text/plain": [
       "<matplotlib.axes._subplots.AxesSubplot at 0x196102fb088>"
      ]
     },
     "execution_count": 324,
     "metadata": {},
     "output_type": "execute_result"
    },
    {
     "data": {
      "image/png": "[encoded data removed]",
      "text/plain": [
       "<Figure size 432x288 with 1 Axes>"
      ]
     },
     "metadata": {
      "needs_background": "light"
     },
     "output_type": "display_data"
    }
   ],
   "source": [
    "sns.boxplot(x='ClusterID', y='income', data=dfnew)"
   ]
  },
  {
   "cell_type": "code",
   "execution_count": 325,
   "metadata": {},
   "outputs": [
    {
     "data": {
      "text/plain": [
       "<matplotlib.axes._subplots.AxesSubplot at 0x19617ed8348>"
      ]
     },
     "execution_count": 325,
     "metadata": {},
     "output_type": "execute_result"
    },
    {
     "data": {
      "image/png": "[encoded data removed]",
      "text/plain": [
       "<Figure size 432x288 with 1 Axes>"
      ]
     },
     "metadata": {
      "needs_background": "light"
     },
     "output_type": "display_data"
    }
   ],
   "source": [
    "sns.boxplot(x='ClusterID', y='child_mort', data=dfnew)"
   ]
  },
  {
   "cell_type": "markdown",
   "metadata": {},
   "source": [
    "cluster 0 and 1 requires more help than other clusters "
   ]
  },
  {
   "cell_type": "code",
   "execution_count": 326,
   "metadata": {},
   "outputs": [
    {
     "data": {
      "text/html": [
       "<div>\n",
       "<style scoped>\n",
       "    .dataframe tbody tr th:only-of-type {\n",
       "        vertical-align: middle;\n",
       "    }\n",
       "\n",
       "    .dataframe tbody tr th {\n",
       "        vertical-align: top;\n",
       "    }\n",
       "\n",
       "    .dataframe thead th {\n",
       "        text-align: right;\n",
       "    }\n",
       "</style>\n",
       "<table border=\"1\" class=\"dataframe\">\n",
       "  <thead>\n",
       "    <tr style=\"text-align: right;\">\n",
       "      <th></th>\n",
       "      <th>ClusterID</th>\n",
       "      <th>GDPP</th>\n",
       "      <th>child_mort</th>\n",
       "      <th>income</th>\n",
       "    </tr>\n",
       "  </thead>\n",
       "  <tbody>\n",
       "    <tr>\n",
       "      <td>0</td>\n",
       "      <td>0</td>\n",
       "      <td>5410</td>\n",
       "      <td>16.60</td>\n",
       "      <td>11100</td>\n",
       "    </tr>\n",
       "    <tr>\n",
       "      <td>1</td>\n",
       "      <td>1</td>\n",
       "      <td>988</td>\n",
       "      <td>64.40</td>\n",
       "      <td>2180</td>\n",
       "    </tr>\n",
       "    <tr>\n",
       "      <td>2</td>\n",
       "      <td>2</td>\n",
       "      <td>5860</td>\n",
       "      <td>27.70</td>\n",
       "      <td>14150</td>\n",
       "    </tr>\n",
       "    <tr>\n",
       "      <td>3</td>\n",
       "      <td>3</td>\n",
       "      <td>40600</td>\n",
       "      <td>4.50</td>\n",
       "      <td>36200</td>\n",
       "    </tr>\n",
       "    <tr>\n",
       "      <td>4</td>\n",
       "      <td>4</td>\n",
       "      <td>36900</td>\n",
       "      <td>10.65</td>\n",
       "      <td>43400</td>\n",
       "    </tr>\n",
       "  </tbody>\n",
       "</table>\n",
       "</div>"
      ],
      "text/plain": [
       "   ClusterID   GDPP  child_mort  income\n",
       "0          0   5410       16.60   11100\n",
       "1          1    988       64.40    2180\n",
       "2          2   5860       27.70   14150\n",
       "3          3  40600        4.50   36200\n",
       "4          4  36900       10.65   43400"
      ]
     },
     "execution_count": 326,
     "metadata": {},
     "output_type": "execute_result"
    }
   ],
   "source": [
    "dfa = pd.concat([pd.Series([0,1,2,3,4]),clu_gdpp,clu_child_mort,clu_income], axis=1)\n",
    "dfa.columns = [\"ClusterID\",\"GDPP\",\"child_mort\",\"income\"]\n",
    "dfa"
   ]
  },
  {
   "cell_type": "markdown",
   "metadata": {},
   "source": [
    "## creating final list using binning"
   ]
  },
  {
   "cell_type": "code",
   "execution_count": 327,
   "metadata": {},
   "outputs": [],
   "source": [
    "#From clustering analysis we observed the upper limits for gdpp and income\n",
    "#and lower limits for child_mort\n",
    "#using binning\n",
    "final=dfnew[dfnew['gdpp']<=988]\n",
    "final=final[final['child_mort']>= 65]\n",
    "final=final[final['income']<= 2180]"
   ]
  },
  {
   "cell_type": "code",
   "execution_count": 328,
   "metadata": {},
   "outputs": [
    {
     "data": {
      "text/html": [
       "<div>\n",
       "<style scoped>\n",
       "    .dataframe tbody tr th:only-of-type {\n",
       "        vertical-align: middle;\n",
       "    }\n",
       "\n",
       "    .dataframe tbody tr th {\n",
       "        vertical-align: top;\n",
       "    }\n",
       "\n",
       "    .dataframe thead th {\n",
       "        text-align: right;\n",
       "    }\n",
       "</style>\n",
       "<table border=\"1\" class=\"dataframe\">\n",
       "  <thead>\n",
       "    <tr style=\"text-align: right;\">\n",
       "      <th></th>\n",
       "      <th>country_x</th>\n",
       "      <th>child_mort</th>\n",
       "      <th>exports</th>\n",
       "      <th>health</th>\n",
       "      <th>imports</th>\n",
       "      <th>income</th>\n",
       "      <th>inflation</th>\n",
       "      <th>life_expec</th>\n",
       "      <th>total_fer</th>\n",
       "      <th>gdpp</th>\n",
       "      <th>country_y</th>\n",
       "      <th>PC1</th>\n",
       "      <th>PC2</th>\n",
       "      <th>PC3</th>\n",
       "      <th>PC4</th>\n",
       "      <th>ClusterID</th>\n",
       "    </tr>\n",
       "  </thead>\n",
       "  <tbody>\n",
       "    <tr>\n",
       "      <td>0</td>\n",
       "      <td>Afghanistan</td>\n",
       "      <td>90.2</td>\n",
       "      <td>55.3000</td>\n",
       "      <td>41.9174</td>\n",
       "      <td>248.297</td>\n",
       "      <td>1610</td>\n",
       "      <td>9.440</td>\n",
       "      <td>56.2</td>\n",
       "      <td>5.82</td>\n",
       "      <td>553</td>\n",
       "      <td>Afghanistan</td>\n",
       "      <td>-2.811468</td>\n",
       "      <td>1.496008</td>\n",
       "      <td>-0.216736</td>\n",
       "      <td>0.198559</td>\n",
       "      <td>1</td>\n",
       "    </tr>\n",
       "    <tr>\n",
       "      <td>17</td>\n",
       "      <td>Benin</td>\n",
       "      <td>111.0</td>\n",
       "      <td>180.4040</td>\n",
       "      <td>31.0780</td>\n",
       "      <td>281.976</td>\n",
       "      <td>1820</td>\n",
       "      <td>0.885</td>\n",
       "      <td>61.8</td>\n",
       "      <td>5.36</td>\n",
       "      <td>758</td>\n",
       "      <td>Benin</td>\n",
       "      <td>-2.482631</td>\n",
       "      <td>1.284057</td>\n",
       "      <td>-1.291174</td>\n",
       "      <td>0.180348</td>\n",
       "      <td>1</td>\n",
       "    </tr>\n",
       "    <tr>\n",
       "      <td>25</td>\n",
       "      <td>Burkina Faso</td>\n",
       "      <td>116.0</td>\n",
       "      <td>110.4000</td>\n",
       "      <td>38.7550</td>\n",
       "      <td>170.200</td>\n",
       "      <td>1430</td>\n",
       "      <td>6.810</td>\n",
       "      <td>57.9</td>\n",
       "      <td>5.87</td>\n",
       "      <td>575</td>\n",
       "      <td>Burkina Faso</td>\n",
       "      <td>-2.908499</td>\n",
       "      <td>1.743159</td>\n",
       "      <td>-0.602777</td>\n",
       "      <td>0.196099</td>\n",
       "      <td>1</td>\n",
       "    </tr>\n",
       "    <tr>\n",
       "      <td>26</td>\n",
       "      <td>Burundi</td>\n",
       "      <td>93.6</td>\n",
       "      <td>20.6052</td>\n",
       "      <td>26.7960</td>\n",
       "      <td>90.552</td>\n",
       "      <td>764</td>\n",
       "      <td>12.300</td>\n",
       "      <td>57.7</td>\n",
       "      <td>6.26</td>\n",
       "      <td>231</td>\n",
       "      <td>Burundi</td>\n",
       "      <td>-2.964058</td>\n",
       "      <td>1.629765</td>\n",
       "      <td>0.151268</td>\n",
       "      <td>0.400870</td>\n",
       "      <td>1</td>\n",
       "    </tr>\n",
       "    <tr>\n",
       "      <td>31</td>\n",
       "      <td>Central African Republic</td>\n",
       "      <td>149.0</td>\n",
       "      <td>52.6280</td>\n",
       "      <td>17.7508</td>\n",
       "      <td>118.190</td>\n",
       "      <td>888</td>\n",
       "      <td>2.010</td>\n",
       "      <td>47.5</td>\n",
       "      <td>5.21</td>\n",
       "      <td>446</td>\n",
       "      <td>Central African Republic</td>\n",
       "      <td>-3.357169</td>\n",
       "      <td>2.351553</td>\n",
       "      <td>-1.458389</td>\n",
       "      <td>-0.531383</td>\n",
       "      <td>1</td>\n",
       "    </tr>\n",
       "    <tr>\n",
       "      <td>32</td>\n",
       "      <td>Chad</td>\n",
       "      <td>150.0</td>\n",
       "      <td>330.0960</td>\n",
       "      <td>40.6341</td>\n",
       "      <td>390.195</td>\n",
       "      <td>1930</td>\n",
       "      <td>6.390</td>\n",
       "      <td>56.5</td>\n",
       "      <td>6.59</td>\n",
       "      <td>897</td>\n",
       "      <td>Chad</td>\n",
       "      <td>-3.316304</td>\n",
       "      <td>2.509857</td>\n",
       "      <td>-0.754819</td>\n",
       "      <td>0.215684</td>\n",
       "      <td>1</td>\n",
       "    </tr>\n",
       "    <tr>\n",
       "      <td>36</td>\n",
       "      <td>Comoros</td>\n",
       "      <td>88.2</td>\n",
       "      <td>126.8850</td>\n",
       "      <td>34.6819</td>\n",
       "      <td>397.573</td>\n",
       "      <td>1410</td>\n",
       "      <td>3.870</td>\n",
       "      <td>65.9</td>\n",
       "      <td>4.75</td>\n",
       "      <td>769</td>\n",
       "      <td>Comoros</td>\n",
       "      <td>-2.098100</td>\n",
       "      <td>0.629389</td>\n",
       "      <td>-0.806303</td>\n",
       "      <td>0.276198</td>\n",
       "      <td>1</td>\n",
       "    </tr>\n",
       "    <tr>\n",
       "      <td>37</td>\n",
       "      <td>Congo, Dem. Rep.</td>\n",
       "      <td>116.0</td>\n",
       "      <td>137.2740</td>\n",
       "      <td>26.4194</td>\n",
       "      <td>165.664</td>\n",
       "      <td>609</td>\n",
       "      <td>20.800</td>\n",
       "      <td>57.5</td>\n",
       "      <td>6.54</td>\n",
       "      <td>334</td>\n",
       "      <td>Congo, Dem. Rep.</td>\n",
       "      <td>-3.363985</td>\n",
       "      <td>2.116005</td>\n",
       "      <td>1.169305</td>\n",
       "      <td>0.460976</td>\n",
       "      <td>2</td>\n",
       "    </tr>\n",
       "    <tr>\n",
       "      <td>56</td>\n",
       "      <td>Gambia</td>\n",
       "      <td>80.3</td>\n",
       "      <td>133.7560</td>\n",
       "      <td>31.9778</td>\n",
       "      <td>239.974</td>\n",
       "      <td>1660</td>\n",
       "      <td>4.300</td>\n",
       "      <td>65.5</td>\n",
       "      <td>5.71</td>\n",
       "      <td>562</td>\n",
       "      <td>Gambia</td>\n",
       "      <td>-2.254731</td>\n",
       "      <td>0.865633</td>\n",
       "      <td>-0.720009</td>\n",
       "      <td>0.539244</td>\n",
       "      <td>1</td>\n",
       "    </tr>\n",
       "    <tr>\n",
       "      <td>63</td>\n",
       "      <td>Guinea</td>\n",
       "      <td>109.0</td>\n",
       "      <td>196.3440</td>\n",
       "      <td>31.9464</td>\n",
       "      <td>279.936</td>\n",
       "      <td>1190</td>\n",
       "      <td>16.100</td>\n",
       "      <td>58.0</td>\n",
       "      <td>5.34</td>\n",
       "      <td>648</td>\n",
       "      <td>Guinea</td>\n",
       "      <td>-2.932145</td>\n",
       "      <td>1.567393</td>\n",
       "      <td>0.592412</td>\n",
       "      <td>0.135923</td>\n",
       "      <td>1</td>\n",
       "    </tr>\n",
       "    <tr>\n",
       "      <td>64</td>\n",
       "      <td>Guinea-Bissau</td>\n",
       "      <td>114.0</td>\n",
       "      <td>81.5030</td>\n",
       "      <td>46.4950</td>\n",
       "      <td>192.544</td>\n",
       "      <td>1390</td>\n",
       "      <td>2.970</td>\n",
       "      <td>55.6</td>\n",
       "      <td>5.05</td>\n",
       "      <td>547</td>\n",
       "      <td>Guinea-Bissau</td>\n",
       "      <td>-2.743135</td>\n",
       "      <td>1.505110</td>\n",
       "      <td>-1.126656</td>\n",
       "      <td>-0.137119</td>\n",
       "      <td>1</td>\n",
       "    </tr>\n",
       "    <tr>\n",
       "      <td>66</td>\n",
       "      <td>Haiti</td>\n",
       "      <td>208.0</td>\n",
       "      <td>101.2860</td>\n",
       "      <td>45.7442</td>\n",
       "      <td>428.314</td>\n",
       "      <td>1500</td>\n",
       "      <td>5.450</td>\n",
       "      <td>32.1</td>\n",
       "      <td>3.33</td>\n",
       "      <td>662</td>\n",
       "      <td>Haiti</td>\n",
       "      <td>-4.058231</td>\n",
       "      <td>3.229705</td>\n",
       "      <td>-1.404052</td>\n",
       "      <td>-1.824515</td>\n",
       "      <td>1</td>\n",
       "    </tr>\n",
       "    <tr>\n",
       "      <td>88</td>\n",
       "      <td>Liberia</td>\n",
       "      <td>89.3</td>\n",
       "      <td>62.4570</td>\n",
       "      <td>38.5860</td>\n",
       "      <td>302.802</td>\n",
       "      <td>700</td>\n",
       "      <td>5.470</td>\n",
       "      <td>60.8</td>\n",
       "      <td>5.02</td>\n",
       "      <td>327</td>\n",
       "      <td>Liberia</td>\n",
       "      <td>-2.418626</td>\n",
       "      <td>0.961032</td>\n",
       "      <td>-0.680994</td>\n",
       "      <td>0.158759</td>\n",
       "      <td>1</td>\n",
       "    </tr>\n",
       "    <tr>\n",
       "      <td>94</td>\n",
       "      <td>Malawi</td>\n",
       "      <td>90.5</td>\n",
       "      <td>104.6520</td>\n",
       "      <td>30.2481</td>\n",
       "      <td>160.191</td>\n",
       "      <td>1030</td>\n",
       "      <td>12.100</td>\n",
       "      <td>53.1</td>\n",
       "      <td>5.31</td>\n",
       "      <td>459</td>\n",
       "      <td>Malaysia</td>\n",
       "      <td>0.625850</td>\n",
       "      <td>-0.821656</td>\n",
       "      <td>0.233772</td>\n",
       "      <td>-0.443192</td>\n",
       "      <td>0</td>\n",
       "    </tr>\n",
       "    <tr>\n",
       "      <td>97</td>\n",
       "      <td>Mali</td>\n",
       "      <td>137.0</td>\n",
       "      <td>161.4240</td>\n",
       "      <td>35.2584</td>\n",
       "      <td>248.508</td>\n",
       "      <td>1870</td>\n",
       "      <td>4.370</td>\n",
       "      <td>59.5</td>\n",
       "      <td>6.55</td>\n",
       "      <td>708</td>\n",
       "      <td>Malta</td>\n",
       "      <td>4.066745</td>\n",
       "      <td>0.838512</td>\n",
       "      <td>-0.050005</td>\n",
       "      <td>-1.752768</td>\n",
       "      <td>4</td>\n",
       "    </tr>\n",
       "    <tr>\n",
       "      <td>106</td>\n",
       "      <td>Mozambique</td>\n",
       "      <td>101.0</td>\n",
       "      <td>131.9850</td>\n",
       "      <td>21.8299</td>\n",
       "      <td>193.578</td>\n",
       "      <td>918</td>\n",
       "      <td>7.640</td>\n",
       "      <td>54.5</td>\n",
       "      <td>5.56</td>\n",
       "      <td>419</td>\n",
       "      <td>Myanmar</td>\n",
       "      <td>-1.456704</td>\n",
       "      <td>-0.476632</td>\n",
       "      <td>-0.314519</td>\n",
       "      <td>-0.254185</td>\n",
       "      <td>0</td>\n",
       "    </tr>\n",
       "    <tr>\n",
       "      <td>112</td>\n",
       "      <td>Niger</td>\n",
       "      <td>123.0</td>\n",
       "      <td>77.2560</td>\n",
       "      <td>17.9568</td>\n",
       "      <td>170.868</td>\n",
       "      <td>814</td>\n",
       "      <td>2.550</td>\n",
       "      <td>58.8</td>\n",
       "      <td>7.49</td>\n",
       "      <td>348</td>\n",
       "      <td>Norway</td>\n",
       "      <td>7.445790</td>\n",
       "      <td>3.057576</td>\n",
       "      <td>0.651583</td>\n",
       "      <td>1.191975</td>\n",
       "      <td>3</td>\n",
       "    </tr>\n",
       "    <tr>\n",
       "      <td>132</td>\n",
       "      <td>Sierra Leone</td>\n",
       "      <td>160.0</td>\n",
       "      <td>67.0320</td>\n",
       "      <td>52.2690</td>\n",
       "      <td>137.655</td>\n",
       "      <td>1220</td>\n",
       "      <td>17.200</td>\n",
       "      <td>55.0</td>\n",
       "      <td>5.20</td>\n",
       "      <td>399</td>\n",
       "      <td>Solomon Islands</td>\n",
       "      <td>-1.665288</td>\n",
       "      <td>-0.042657</td>\n",
       "      <td>-0.320842</td>\n",
       "      <td>0.135371</td>\n",
       "      <td>0</td>\n",
       "    </tr>\n",
       "    <tr>\n",
       "      <td>147</td>\n",
       "      <td>Tanzania</td>\n",
       "      <td>71.9</td>\n",
       "      <td>131.2740</td>\n",
       "      <td>42.1902</td>\n",
       "      <td>204.282</td>\n",
       "      <td>2090</td>\n",
       "      <td>9.250</td>\n",
       "      <td>59.3</td>\n",
       "      <td>5.43</td>\n",
       "      <td>702</td>\n",
       "      <td>Tonga</td>\n",
       "      <td>-0.955541</td>\n",
       "      <td>-0.588575</td>\n",
       "      <td>-0.545759</td>\n",
       "      <td>0.367289</td>\n",
       "      <td>0</td>\n",
       "    </tr>\n",
       "    <tr>\n",
       "      <td>150</td>\n",
       "      <td>Togo</td>\n",
       "      <td>90.3</td>\n",
       "      <td>196.1760</td>\n",
       "      <td>37.3320</td>\n",
       "      <td>279.624</td>\n",
       "      <td>1210</td>\n",
       "      <td>1.180</td>\n",
       "      <td>58.7</td>\n",
       "      <td>4.87</td>\n",
       "      <td>488</td>\n",
       "      <td>Turkmenistan</td>\n",
       "      <td>-0.902949</td>\n",
       "      <td>-0.160385</td>\n",
       "      <td>-0.788408</td>\n",
       "      <td>-0.354181</td>\n",
       "      <td>0</td>\n",
       "    </tr>\n",
       "    <tr>\n",
       "      <td>155</td>\n",
       "      <td>Uganda</td>\n",
       "      <td>81.0</td>\n",
       "      <td>101.7450</td>\n",
       "      <td>53.6095</td>\n",
       "      <td>170.170</td>\n",
       "      <td>1540</td>\n",
       "      <td>10.600</td>\n",
       "      <td>56.8</td>\n",
       "      <td>6.15</td>\n",
       "      <td>595</td>\n",
       "      <td>United States</td>\n",
       "      <td>4.253574</td>\n",
       "      <td>0.889099</td>\n",
       "      <td>-0.376270</td>\n",
       "      <td>2.586102</td>\n",
       "      <td>3</td>\n",
       "    </tr>\n",
       "  </tbody>\n",
       "</table>\n",
       "</div>"
      ],
      "text/plain": [
       "                    country_x  child_mort   exports   health  imports  income  \\\n",
       "0                 Afghanistan        90.2   55.3000  41.9174  248.297    1610   \n",
       "17                      Benin       111.0  180.4040  31.0780  281.976    1820   \n",
       "25               Burkina Faso       116.0  110.4000  38.7550  170.200    1430   \n",
       "26                    Burundi        93.6   20.6052  26.7960   90.552     764   \n",
       "31   Central African Republic       149.0   52.6280  17.7508  118.190     888   \n",
       "32                       Chad       150.0  330.0960  40.6341  390.195    1930   \n",
       "36                    Comoros        88.2  126.8850  34.6819  397.573    1410   \n",
       "37           Congo, Dem. Rep.       116.0  137.2740  26.4194  165.664     609   \n",
       "56                     Gambia        80.3  133.7560  31.9778  239.974    1660   \n",
       "63                     Guinea       109.0  196.3440  31.9464  279.936    1190   \n",
       "64              Guinea-Bissau       114.0   81.5030  46.4950  192.544    1390   \n",
       "66                      Haiti       208.0  101.2860  45.7442  428.314    1500   \n",
       "88                    Liberia        89.3   62.4570  38.5860  302.802     700   \n",
       "94                     Malawi        90.5  104.6520  30.2481  160.191    1030   \n",
       "97                       Mali       137.0  161.4240  35.2584  248.508    1870   \n",
       "106                Mozambique       101.0  131.9850  21.8299  193.578     918   \n",
       "112                     Niger       123.0   77.2560  17.9568  170.868     814   \n",
       "132              Sierra Leone       160.0   67.0320  52.2690  137.655    1220   \n",
       "147                  Tanzania        71.9  131.2740  42.1902  204.282    2090   \n",
       "150                      Togo        90.3  196.1760  37.3320  279.624    1210   \n",
       "155                    Uganda        81.0  101.7450  53.6095  170.170    1540   \n",
       "\n",
       "     inflation  life_expec  total_fer  gdpp                 country_y  \\\n",
       "0        9.440        56.2       5.82   553               Afghanistan   \n",
       "17       0.885        61.8       5.36   758                     Benin   \n",
       "25       6.810        57.9       5.87   575              Burkina Faso   \n",
       "26      12.300        57.7       6.26   231                   Burundi   \n",
       "31       2.010        47.5       5.21   446  Central African Republic   \n",
       "32       6.390        56.5       6.59   897                      Chad   \n",
       "36       3.870        65.9       4.75   769                   Comoros   \n",
       "37      20.800        57.5       6.54   334          Congo, Dem. Rep.   \n",
       "56       4.300        65.5       5.71   562                    Gambia   \n",
       "63      16.100        58.0       5.34   648                    Guinea   \n",
       "64       2.970        55.6       5.05   547             Guinea-Bissau   \n",
       "66       5.450        32.1       3.33   662                     Haiti   \n",
       "88       5.470        60.8       5.02   327                   Liberia   \n",
       "94      12.100        53.1       5.31   459                  Malaysia   \n",
       "97       4.370        59.5       6.55   708                     Malta   \n",
       "106      7.640        54.5       5.56   419                   Myanmar   \n",
       "112      2.550        58.8       7.49   348                    Norway   \n",
       "132     17.200        55.0       5.20   399           Solomon Islands   \n",
       "147      9.250        59.3       5.43   702                     Tonga   \n",
       "150      1.180        58.7       4.87   488              Turkmenistan   \n",
       "155     10.600        56.8       6.15   595             United States   \n",
       "\n",
       "          PC1       PC2       PC3       PC4  ClusterID  \n",
       "0   -2.811468  1.496008 -0.216736  0.198559          1  \n",
       "17  -2.482631  1.284057 -1.291174  0.180348          1  \n",
       "25  -2.908499  1.743159 -0.602777  0.196099          1  \n",
       "26  -2.964058  1.629765  0.151268  0.400870          1  \n",
       "31  -3.357169  2.351553 -1.458389 -0.531383          1  \n",
       "32  -3.316304  2.509857 -0.754819  0.215684          1  \n",
       "36  -2.098100  0.629389 -0.806303  0.276198          1  \n",
       "37  -3.363985  2.116005  1.169305  0.460976          2  \n",
       "56  -2.254731  0.865633 -0.720009  0.539244          1  \n",
       "63  -2.932145  1.567393  0.592412  0.135923          1  \n",
       "64  -2.743135  1.505110 -1.126656 -0.137119          1  \n",
       "66  -4.058231  3.229705 -1.404052 -1.824515          1  \n",
       "88  -2.418626  0.961032 -0.680994  0.158759          1  \n",
       "94   0.625850 -0.821656  0.233772 -0.443192          0  \n",
       "97   4.066745  0.838512 -0.050005 -1.752768          4  \n",
       "106 -1.456704 -0.476632 -0.314519 -0.254185          0  \n",
       "112  7.445790  3.057576  0.651583  1.191975          3  \n",
       "132 -1.665288 -0.042657 -0.320842  0.135371          0  \n",
       "147 -0.955541 -0.588575 -0.545759  0.367289          0  \n",
       "150 -0.902949 -0.160385 -0.788408 -0.354181          0  \n",
       "155  4.253574  0.889099 -0.376270  2.586102          3  "
      ]
     },
     "execution_count": 328,
     "metadata": {},
     "output_type": "execute_result"
    }
   ],
   "source": [
    "final\n"
   ]
  },
  {
   "cell_type": "code",
   "execution_count": 329,
   "metadata": {},
   "outputs": [],
   "source": [
    "The_list=final['country_x'].tolist()"
   ]
  },
  {
   "cell_type": "code",
   "execution_count": 347,
   "metadata": {},
   "outputs": [
    {
     "data": {
      "text/plain": [
       "['Afghanistan',\n",
       " 'Benin',\n",
       " 'Burkina Faso',\n",
       " 'Burundi',\n",
       " 'Central African Republic',\n",
       " 'Chad',\n",
       " 'Comoros',\n",
       " 'Congo, Dem. Rep.',\n",
       " 'Gambia',\n",
       " 'Guinea',\n",
       " 'Guinea-Bissau',\n",
       " 'Haiti',\n",
       " 'Liberia',\n",
       " 'Malawi',\n",
       " 'Mali',\n",
       " 'Mozambique',\n",
       " 'Niger',\n",
       " 'Sierra Leone',\n",
       " 'Tanzania',\n",
       " 'Togo',\n",
       " 'Uganda']"
      ]
     },
     "execution_count": 347,
     "metadata": {},
     "output_type": "execute_result"
    }
   ],
   "source": [
    "#The final list of countries which are in need of aid immediately\n",
    "The_list"
   ]
  },
  {
   "cell_type": "code",
   "execution_count": null,
   "metadata": {},
   "outputs": [],
   "source": []
  }
 ],
 "metadata": {
  "kernelspec": {
   "display_name": "Python 3",
   "language": "python",
   "name": "python3"
  },
  "language_info": {
   "codemirror_mode": {
    "name": "ipython",
    "version": 3
   },
   "file_extension": ".py",
   "mimetype": "text/x-python",
   "name": "python",
   "nbconvert_exporter": "python",
   "pygments_lexer": "ipython3",
   "version": "3.7.4"
  }
 },
 "nbformat": 4,
 "nbformat_minor": 2
}
